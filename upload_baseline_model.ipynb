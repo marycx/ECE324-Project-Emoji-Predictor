{
  "nbformat": 4,
  "nbformat_minor": 0,
  "metadata": {
    "colab": {
      "provenance": [],
      "toc_visible": true,
      "include_colab_link": true
    },
    "kernelspec": {
      "name": "python3",
      "display_name": "Python 3"
    },
    "language_info": {
      "name": "python"
    }
  },
  "cells": [
    {
      "cell_type": "markdown",
      "metadata": {
        "id": "view-in-github",
        "colab_type": "text"
      },
      "source": [
        "<a href=\"https://colab.research.google.com/github/marycx/ECE324-Project-Emoji-Predictor/blob/main/upload_baseline_model.ipynb\" target=\"_parent\"><img src=\"https://colab.research.google.com/assets/colab-badge.svg\" alt=\"Open In Colab\"/></a>"
      ]
    },
    {
      "cell_type": "markdown",
      "source": [
        "# Import"
      ],
      "metadata": {
        "id": "59geL38KbP-t"
      }
    },
    {
      "cell_type": "code",
      "execution_count": null,
      "metadata": {
        "id": "icGRlo6UYt4r"
      },
      "outputs": [],
      "source": [
        "import torch\n",
        "import pandas as pd\n",
        "from sklearn.linear_model import LogisticRegression\n",
        "from sklearn.model_selection import train_test_split\n",
        "import numpy as np\n",
        "import math"
      ]
    },
    {
      "cell_type": "code",
      "source": [
        "!pip install pandas\n",
        "\n",
        "# Install langid\n",
        "!pip install langid\n",
        "\n",
        "# Install spacy\n",
        "!pip install spacy\n",
        "\n",
        "# Download the English language model in spacy\n",
        "!python -m spacy download en_core_web_sm\n",
        "\n",
        "# Install emoji\n",
        "!pip install emoji==1.7"
      ],
      "metadata": {
        "id": "mr6rQoELr3W2"
      },
      "execution_count": null,
      "outputs": []
    },
    {
      "cell_type": "code",
      "source": [
        "import pandas as pd # read csv\n",
        "import emoji # find emoji\n",
        "import langid # remove non-English text\n",
        "import re # remove url etc.\n",
        "import spacy # lemmatization\n",
        "import html"
      ],
      "metadata": {
        "id": "gpG9BdeFsPHl"
      },
      "execution_count": null,
      "outputs": []
    },
    {
      "cell_type": "code",
      "source": [
        "torch.manual_seed(42)\n",
        "np.random.seed(42)\n",
        "torch.random.manual_seed(42)"
      ],
      "metadata": {
        "colab": {
          "base_uri": "https://localhost:8080/"
        },
        "id": "ulWRg0T7bYaU",
        "outputId": "dc795f65-49ae-45ac-efe9-0796efca0ee0"
      },
      "execution_count": null,
      "outputs": [
        {
          "output_type": "execute_result",
          "data": {
            "text/plain": [
              "<torch._C.Generator at 0x7fc5980ec310>"
            ]
          },
          "metadata": {},
          "execution_count": 5
        }
      ]
    },
    {
      "cell_type": "markdown",
      "source": [
        "# Import data"
      ],
      "metadata": {
        "id": "1DP9OzRZbjhU"
      }
    },
    {
      "cell_type": "code",
      "source": [
        "from google.colab import files\n",
        "uploaded = files.upload()"
      ],
      "metadata": {
        "colab": {
          "base_uri": "https://localhost:8080/",
          "height": 75
        },
        "id": "GQMfqi6ubad8",
        "outputId": "7ba78a35-5ff2-4682-e924-2fa970c3f941"
      },
      "execution_count": null,
      "outputs": [
        {
          "output_type": "display_data",
          "data": {
            "text/plain": [
              "<IPython.core.display.HTML object>"
            ],
            "text/html": [
              "\n",
              "     <input type=\"file\" id=\"files-128f2907-508d-4bbf-9f30-586839e29c77\" name=\"files[]\" multiple disabled\n",
              "        style=\"border:none\" />\n",
              "     <output id=\"result-128f2907-508d-4bbf-9f30-586839e29c77\">\n",
              "      Upload widget is only available when the cell has been executed in the\n",
              "      current browser session. Please rerun this cell to enable.\n",
              "      </output>\n",
              "      <script>// Copyright 2017 Google LLC\n",
              "//\n",
              "// Licensed under the Apache License, Version 2.0 (the \"License\");\n",
              "// you may not use this file except in compliance with the License.\n",
              "// You may obtain a copy of the License at\n",
              "//\n",
              "//      http://www.apache.org/licenses/LICENSE-2.0\n",
              "//\n",
              "// Unless required by applicable law or agreed to in writing, software\n",
              "// distributed under the License is distributed on an \"AS IS\" BASIS,\n",
              "// WITHOUT WARRANTIES OR CONDITIONS OF ANY KIND, either express or implied.\n",
              "// See the License for the specific language governing permissions and\n",
              "// limitations under the License.\n",
              "\n",
              "/**\n",
              " * @fileoverview Helpers for google.colab Python module.\n",
              " */\n",
              "(function(scope) {\n",
              "function span(text, styleAttributes = {}) {\n",
              "  const element = document.createElement('span');\n",
              "  element.textContent = text;\n",
              "  for (const key of Object.keys(styleAttributes)) {\n",
              "    element.style[key] = styleAttributes[key];\n",
              "  }\n",
              "  return element;\n",
              "}\n",
              "\n",
              "// Max number of bytes which will be uploaded at a time.\n",
              "const MAX_PAYLOAD_SIZE = 100 * 1024;\n",
              "\n",
              "function _uploadFiles(inputId, outputId) {\n",
              "  const steps = uploadFilesStep(inputId, outputId);\n",
              "  const outputElement = document.getElementById(outputId);\n",
              "  // Cache steps on the outputElement to make it available for the next call\n",
              "  // to uploadFilesContinue from Python.\n",
              "  outputElement.steps = steps;\n",
              "\n",
              "  return _uploadFilesContinue(outputId);\n",
              "}\n",
              "\n",
              "// This is roughly an async generator (not supported in the browser yet),\n",
              "// where there are multiple asynchronous steps and the Python side is going\n",
              "// to poll for completion of each step.\n",
              "// This uses a Promise to block the python side on completion of each step,\n",
              "// then passes the result of the previous step as the input to the next step.\n",
              "function _uploadFilesContinue(outputId) {\n",
              "  const outputElement = document.getElementById(outputId);\n",
              "  const steps = outputElement.steps;\n",
              "\n",
              "  const next = steps.next(outputElement.lastPromiseValue);\n",
              "  return Promise.resolve(next.value.promise).then((value) => {\n",
              "    // Cache the last promise value to make it available to the next\n",
              "    // step of the generator.\n",
              "    outputElement.lastPromiseValue = value;\n",
              "    return next.value.response;\n",
              "  });\n",
              "}\n",
              "\n",
              "/**\n",
              " * Generator function which is called between each async step of the upload\n",
              " * process.\n",
              " * @param {string} inputId Element ID of the input file picker element.\n",
              " * @param {string} outputId Element ID of the output display.\n",
              " * @return {!Iterable<!Object>} Iterable of next steps.\n",
              " */\n",
              "function* uploadFilesStep(inputId, outputId) {\n",
              "  const inputElement = document.getElementById(inputId);\n",
              "  inputElement.disabled = false;\n",
              "\n",
              "  const outputElement = document.getElementById(outputId);\n",
              "  outputElement.innerHTML = '';\n",
              "\n",
              "  const pickedPromise = new Promise((resolve) => {\n",
              "    inputElement.addEventListener('change', (e) => {\n",
              "      resolve(e.target.files);\n",
              "    });\n",
              "  });\n",
              "\n",
              "  const cancel = document.createElement('button');\n",
              "  inputElement.parentElement.appendChild(cancel);\n",
              "  cancel.textContent = 'Cancel upload';\n",
              "  const cancelPromise = new Promise((resolve) => {\n",
              "    cancel.onclick = () => {\n",
              "      resolve(null);\n",
              "    };\n",
              "  });\n",
              "\n",
              "  // Wait for the user to pick the files.\n",
              "  const files = yield {\n",
              "    promise: Promise.race([pickedPromise, cancelPromise]),\n",
              "    response: {\n",
              "      action: 'starting',\n",
              "    }\n",
              "  };\n",
              "\n",
              "  cancel.remove();\n",
              "\n",
              "  // Disable the input element since further picks are not allowed.\n",
              "  inputElement.disabled = true;\n",
              "\n",
              "  if (!files) {\n",
              "    return {\n",
              "      response: {\n",
              "        action: 'complete',\n",
              "      }\n",
              "    };\n",
              "  }\n",
              "\n",
              "  for (const file of files) {\n",
              "    const li = document.createElement('li');\n",
              "    li.append(span(file.name, {fontWeight: 'bold'}));\n",
              "    li.append(span(\n",
              "        `(${file.type || 'n/a'}) - ${file.size} bytes, ` +\n",
              "        `last modified: ${\n",
              "            file.lastModifiedDate ? file.lastModifiedDate.toLocaleDateString() :\n",
              "                                    'n/a'} - `));\n",
              "    const percent = span('0% done');\n",
              "    li.appendChild(percent);\n",
              "\n",
              "    outputElement.appendChild(li);\n",
              "\n",
              "    const fileDataPromise = new Promise((resolve) => {\n",
              "      const reader = new FileReader();\n",
              "      reader.onload = (e) => {\n",
              "        resolve(e.target.result);\n",
              "      };\n",
              "      reader.readAsArrayBuffer(file);\n",
              "    });\n",
              "    // Wait for the data to be ready.\n",
              "    let fileData = yield {\n",
              "      promise: fileDataPromise,\n",
              "      response: {\n",
              "        action: 'continue',\n",
              "      }\n",
              "    };\n",
              "\n",
              "    // Use a chunked sending to avoid message size limits. See b/62115660.\n",
              "    let position = 0;\n",
              "    do {\n",
              "      const length = Math.min(fileData.byteLength - position, MAX_PAYLOAD_SIZE);\n",
              "      const chunk = new Uint8Array(fileData, position, length);\n",
              "      position += length;\n",
              "\n",
              "      const base64 = btoa(String.fromCharCode.apply(null, chunk));\n",
              "      yield {\n",
              "        response: {\n",
              "          action: 'append',\n",
              "          file: file.name,\n",
              "          data: base64,\n",
              "        },\n",
              "      };\n",
              "\n",
              "      let percentDone = fileData.byteLength === 0 ?\n",
              "          100 :\n",
              "          Math.round((position / fileData.byteLength) * 100);\n",
              "      percent.textContent = `${percentDone}% done`;\n",
              "\n",
              "    } while (position < fileData.byteLength);\n",
              "  }\n",
              "\n",
              "  // All done.\n",
              "  yield {\n",
              "    response: {\n",
              "      action: 'complete',\n",
              "    }\n",
              "  };\n",
              "}\n",
              "\n",
              "scope.google = scope.google || {};\n",
              "scope.google.colab = scope.google.colab || {};\n",
              "scope.google.colab._files = {\n",
              "  _uploadFiles,\n",
              "  _uploadFilesContinue,\n",
              "};\n",
              "})(self);\n",
              "</script> "
            ]
          },
          "metadata": {}
        },
        {
          "output_type": "stream",
          "name": "stdout",
          "text": [
            "Saving emoji_to_number_ref_50 to emoji_to_number_ref_50\n"
          ]
        }
      ]
    },
    {
      "cell_type": "code",
      "source": [
        "# Open file \n",
        "import csv\n",
        "l = []\n",
        "with open('emoji_to_number_ref_50') as file_obj:\n",
        "      \n",
        "    heading = next(file_obj)\n",
        "    reader_obj = csv.reader(file_obj)\n",
        "      \n",
        "    # Iterate over each row in the csv \n",
        "    # file using reader object\n",
        "    for row in reader_obj:\n",
        "        l.append(row)"
      ],
      "metadata": {
        "id": "vBGJiOp-cj-V"
      },
      "execution_count": null,
      "outputs": []
    },
    {
      "cell_type": "code",
      "source": [
        "l[:20]"
      ],
      "metadata": {
        "id": "AS_kaEiSdFxX"
      },
      "execution_count": null,
      "outputs": []
    },
    {
      "cell_type": "code",
      "source": [
        "import csv\n",
        "r = []\n",
        "with open('emoji_to_number_ref (1)') as file_obj:\n",
        "      \n",
        "    heading = next(file_obj)\n",
        "    reader_obj = csv.reader(file_obj)\n",
        "      \n",
        "    # Iterate over each row in the csv \n",
        "    # file using reader object\n",
        "    for row in reader_obj:\n",
        "        r.append(row)"
      ],
      "metadata": {
        "id": "nUf3rZaKqjSR"
      },
      "execution_count": null,
      "outputs": []
    },
    {
      "cell_type": "code",
      "source": [
        "r[1]"
      ],
      "metadata": {
        "colab": {
          "base_uri": "https://localhost:8080/"
        },
        "id": "I62CLJU7119n",
        "outputId": "39c23422-58a6-4b40-d48f-900a9f185c0d"
      },
      "execution_count": null,
      "outputs": [
        {
          "output_type": "execute_result",
          "data": {
            "text/plain": [
              "['2', '👎🏼']"
            ]
          },
          "metadata": {},
          "execution_count": 18
        }
      ]
    },
    {
      "cell_type": "markdown",
      "source": [
        "# Train, Validation, Test"
      ],
      "metadata": {
        "id": "7fst7KifdkAP"
      }
    },
    {
      "cell_type": "markdown",
      "source": [
        "## Word Encoding"
      ],
      "metadata": {
        "id": "h91kGMPIp2Pa"
      }
    },
    {
      "cell_type": "code",
      "source": [
        "from google.colab import files\n",
        "uploaded = files.upload()"
      ],
      "metadata": {
        "colab": {
          "base_uri": "https://localhost:8080/",
          "height": 75
        },
        "id": "BFXFoyyIdvK1",
        "outputId": "7d94ec5e-a3f3-428e-f079-5a6af4873aac"
      },
      "execution_count": null,
      "outputs": [
        {
          "output_type": "display_data",
          "data": {
            "text/plain": [
              "<IPython.core.display.HTML object>"
            ],
            "text/html": [
              "\n",
              "     <input type=\"file\" id=\"files-32a5864f-f687-4e03-a682-f1e6c89507b4\" name=\"files[]\" multiple disabled\n",
              "        style=\"border:none\" />\n",
              "     <output id=\"result-32a5864f-f687-4e03-a682-f1e6c89507b4\">\n",
              "      Upload widget is only available when the cell has been executed in the\n",
              "      current browser session. Please rerun this cell to enable.\n",
              "      </output>\n",
              "      <script>// Copyright 2017 Google LLC\n",
              "//\n",
              "// Licensed under the Apache License, Version 2.0 (the \"License\");\n",
              "// you may not use this file except in compliance with the License.\n",
              "// You may obtain a copy of the License at\n",
              "//\n",
              "//      http://www.apache.org/licenses/LICENSE-2.0\n",
              "//\n",
              "// Unless required by applicable law or agreed to in writing, software\n",
              "// distributed under the License is distributed on an \"AS IS\" BASIS,\n",
              "// WITHOUT WARRANTIES OR CONDITIONS OF ANY KIND, either express or implied.\n",
              "// See the License for the specific language governing permissions and\n",
              "// limitations under the License.\n",
              "\n",
              "/**\n",
              " * @fileoverview Helpers for google.colab Python module.\n",
              " */\n",
              "(function(scope) {\n",
              "function span(text, styleAttributes = {}) {\n",
              "  const element = document.createElement('span');\n",
              "  element.textContent = text;\n",
              "  for (const key of Object.keys(styleAttributes)) {\n",
              "    element.style[key] = styleAttributes[key];\n",
              "  }\n",
              "  return element;\n",
              "}\n",
              "\n",
              "// Max number of bytes which will be uploaded at a time.\n",
              "const MAX_PAYLOAD_SIZE = 100 * 1024;\n",
              "\n",
              "function _uploadFiles(inputId, outputId) {\n",
              "  const steps = uploadFilesStep(inputId, outputId);\n",
              "  const outputElement = document.getElementById(outputId);\n",
              "  // Cache steps on the outputElement to make it available for the next call\n",
              "  // to uploadFilesContinue from Python.\n",
              "  outputElement.steps = steps;\n",
              "\n",
              "  return _uploadFilesContinue(outputId);\n",
              "}\n",
              "\n",
              "// This is roughly an async generator (not supported in the browser yet),\n",
              "// where there are multiple asynchronous steps and the Python side is going\n",
              "// to poll for completion of each step.\n",
              "// This uses a Promise to block the python side on completion of each step,\n",
              "// then passes the result of the previous step as the input to the next step.\n",
              "function _uploadFilesContinue(outputId) {\n",
              "  const outputElement = document.getElementById(outputId);\n",
              "  const steps = outputElement.steps;\n",
              "\n",
              "  const next = steps.next(outputElement.lastPromiseValue);\n",
              "  return Promise.resolve(next.value.promise).then((value) => {\n",
              "    // Cache the last promise value to make it available to the next\n",
              "    // step of the generator.\n",
              "    outputElement.lastPromiseValue = value;\n",
              "    return next.value.response;\n",
              "  });\n",
              "}\n",
              "\n",
              "/**\n",
              " * Generator function which is called between each async step of the upload\n",
              " * process.\n",
              " * @param {string} inputId Element ID of the input file picker element.\n",
              " * @param {string} outputId Element ID of the output display.\n",
              " * @return {!Iterable<!Object>} Iterable of next steps.\n",
              " */\n",
              "function* uploadFilesStep(inputId, outputId) {\n",
              "  const inputElement = document.getElementById(inputId);\n",
              "  inputElement.disabled = false;\n",
              "\n",
              "  const outputElement = document.getElementById(outputId);\n",
              "  outputElement.innerHTML = '';\n",
              "\n",
              "  const pickedPromise = new Promise((resolve) => {\n",
              "    inputElement.addEventListener('change', (e) => {\n",
              "      resolve(e.target.files);\n",
              "    });\n",
              "  });\n",
              "\n",
              "  const cancel = document.createElement('button');\n",
              "  inputElement.parentElement.appendChild(cancel);\n",
              "  cancel.textContent = 'Cancel upload';\n",
              "  const cancelPromise = new Promise((resolve) => {\n",
              "    cancel.onclick = () => {\n",
              "      resolve(null);\n",
              "    };\n",
              "  });\n",
              "\n",
              "  // Wait for the user to pick the files.\n",
              "  const files = yield {\n",
              "    promise: Promise.race([pickedPromise, cancelPromise]),\n",
              "    response: {\n",
              "      action: 'starting',\n",
              "    }\n",
              "  };\n",
              "\n",
              "  cancel.remove();\n",
              "\n",
              "  // Disable the input element since further picks are not allowed.\n",
              "  inputElement.disabled = true;\n",
              "\n",
              "  if (!files) {\n",
              "    return {\n",
              "      response: {\n",
              "        action: 'complete',\n",
              "      }\n",
              "    };\n",
              "  }\n",
              "\n",
              "  for (const file of files) {\n",
              "    const li = document.createElement('li');\n",
              "    li.append(span(file.name, {fontWeight: 'bold'}));\n",
              "    li.append(span(\n",
              "        `(${file.type || 'n/a'}) - ${file.size} bytes, ` +\n",
              "        `last modified: ${\n",
              "            file.lastModifiedDate ? file.lastModifiedDate.toLocaleDateString() :\n",
              "                                    'n/a'} - `));\n",
              "    const percent = span('0% done');\n",
              "    li.appendChild(percent);\n",
              "\n",
              "    outputElement.appendChild(li);\n",
              "\n",
              "    const fileDataPromise = new Promise((resolve) => {\n",
              "      const reader = new FileReader();\n",
              "      reader.onload = (e) => {\n",
              "        resolve(e.target.result);\n",
              "      };\n",
              "      reader.readAsArrayBuffer(file);\n",
              "    });\n",
              "    // Wait for the data to be ready.\n",
              "    let fileData = yield {\n",
              "      promise: fileDataPromise,\n",
              "      response: {\n",
              "        action: 'continue',\n",
              "      }\n",
              "    };\n",
              "\n",
              "    // Use a chunked sending to avoid message size limits. See b/62115660.\n",
              "    let position = 0;\n",
              "    do {\n",
              "      const length = Math.min(fileData.byteLength - position, MAX_PAYLOAD_SIZE);\n",
              "      const chunk = new Uint8Array(fileData, position, length);\n",
              "      position += length;\n",
              "\n",
              "      const base64 = btoa(String.fromCharCode.apply(null, chunk));\n",
              "      yield {\n",
              "        response: {\n",
              "          action: 'append',\n",
              "          file: file.name,\n",
              "          data: base64,\n",
              "        },\n",
              "      };\n",
              "\n",
              "      let percentDone = fileData.byteLength === 0 ?\n",
              "          100 :\n",
              "          Math.round((position / fileData.byteLength) * 100);\n",
              "      percent.textContent = `${percentDone}% done`;\n",
              "\n",
              "    } while (position < fileData.byteLength);\n",
              "  }\n",
              "\n",
              "  // All done.\n",
              "  yield {\n",
              "    response: {\n",
              "      action: 'complete',\n",
              "    }\n",
              "  };\n",
              "}\n",
              "\n",
              "scope.google = scope.google || {};\n",
              "scope.google.colab = scope.google.colab || {};\n",
              "scope.google.colab._files = {\n",
              "  _uploadFiles,\n",
              "  _uploadFilesContinue,\n",
              "};\n",
              "})(self);\n",
              "</script> "
            ]
          },
          "metadata": {}
        },
        {
          "output_type": "stream",
          "name": "stdout",
          "text": [
            "Saving data_preproc_csv(2) to data_preproc_csv(2)\n"
          ]
        }
      ]
    },
    {
      "cell_type": "code",
      "source": [
        "# Open file \n",
        "import csv\n",
        "w = []\n",
        "with open('data_preproc_csv_50(1)') as file_obj:\n",
        "      \n",
        "    heading = next(file_obj)\n",
        "    reader_obj = csv.reader(file_obj)\n",
        "      \n",
        "    # Iterate over each row in the csv \n",
        "    # file using reader object\n",
        "    for row in reader_obj:\n",
        "        w.append(row)"
      ],
      "metadata": {
        "id": "A295cSVo5HzL"
      },
      "execution_count": null,
      "outputs": []
    },
    {
      "cell_type": "code",
      "source": [
        "w[1]"
      ],
      "metadata": {
        "colab": {
          "base_uri": "https://localhost:8080/"
        },
        "id": "8im3qnpj5Mex",
        "outputId": "99f5370a-82a6-4725-a60e-d5a2aba84aa5"
      },
      "execution_count": null,
      "outputs": [
        {
          "output_type": "execute_result",
          "data": {
            "text/plain": [
              "['KatyCats, get ready to own a piece of my history! FINALLY the Nostalgia Store powered by @Theta_Network is coming Friday 3/24, featuring REAL stage-worn cutie costumes &amp; props from some of my past performances! A thread of some of the lewks here :',\n",
              " '2']"
            ]
          },
          "metadata": {},
          "execution_count": 230
        }
      ]
    },
    {
      "cell_type": "code",
      "source": [
        "from nltk.tokenize import sent_tokenize, word_tokenize\n",
        "import warnings\n",
        "warnings.filterwarnings(action = 'ignore')\n",
        " \n",
        "import gensim\n",
        "from gensim.models import Word2Vec"
      ],
      "metadata": {
        "id": "Pcts_ko4luyJ"
      },
      "execution_count": null,
      "outputs": []
    },
    {
      "cell_type": "code",
      "source": [
        "import nltk\n",
        "nltk.download('punkt')"
      ],
      "metadata": {
        "colab": {
          "base_uri": "https://localhost:8080/"
        },
        "id": "oYoOWaaYpJJR",
        "outputId": "d9820a8c-243f-4a2c-f3db-e678db6d5b91"
      },
      "execution_count": null,
      "outputs": [
        {
          "output_type": "stream",
          "name": "stderr",
          "text": [
            "[nltk_data] Downloading package punkt to /root/nltk_data...\n",
            "[nltk_data]   Unzipping tokenizers/punkt.zip.\n"
          ]
        },
        {
          "output_type": "execute_result",
          "data": {
            "text/plain": [
              "True"
            ]
          },
          "metadata": {},
          "execution_count": 10
        }
      ]
    },
    {
      "cell_type": "code",
      "source": [
        "sample = open(\"data_preproc_csv(2)\")\n",
        "s = sample.read()"
      ],
      "metadata": {
        "id": "AOs03pTaoMf-"
      },
      "execution_count": null,
      "outputs": []
    },
    {
      "cell_type": "code",
      "source": [
        "s"
      ],
      "metadata": {
        "id": "QJOPXnS8kGUv"
      },
      "execution_count": null,
      "outputs": []
    },
    {
      "cell_type": "code",
      "source": [
        "data = []\n",
        "for i in sent_tokenize(s):\n",
        "    temp = []\n",
        "     \n",
        "    # tokenize the sentence into words\n",
        "    for j in word_tokenize(i):\n",
        "        temp.append(j.lower())\n",
        " \n",
        "    data.append(temp)"
      ],
      "metadata": {
        "id": "JiCZ9--wo0xo"
      },
      "execution_count": null,
      "outputs": []
    },
    {
      "cell_type": "code",
      "source": [
        "data"
      ],
      "metadata": {
        "id": "TlivYFMBi3Iq"
      },
      "execution_count": null,
      "outputs": []
    },
    {
      "cell_type": "code",
      "source": [
        "model1 = gensim.models.Word2Vec(data, min_count = 1,vector_size = 1000, window = 5)"
      ],
      "metadata": {
        "id": "7BimUV4fpRn4"
      },
      "execution_count": null,
      "outputs": []
    },
    {
      "cell_type": "code",
      "source": [
        "w1 = \"sad\"\n",
        "model1.wv.most_similar(positive=w1)"
      ],
      "metadata": {
        "colab": {
          "base_uri": "https://localhost:8080/"
        },
        "id": "zOeorkEKpefD",
        "outputId": "66d114cb-3e6a-4f3e-ee61-f14e5c01fd92"
      },
      "execution_count": null,
      "outputs": [
        {
          "output_type": "execute_result",
          "data": {
            "text/plain": [
              "[('nice', 0.9375548958778381),\n",
              " ('cute', 0.9356327056884766),\n",
              " ('fail', 0.9356213808059692),\n",
              " ('respond', 0.9297271966934204),\n",
              " ('junior', 0.9291984438896179),\n",
              " ('often', 0.9290633201599121),\n",
              " ('cry', 0.9289397597312927),\n",
              " ('hate', 0.9261022806167603),\n",
              " (',37', 0.9255183935165405),\n",
              " ('dude', 0.9227755069732666)]"
            ]
          },
          "metadata": {},
          "execution_count": 15
        }
      ]
    },
    {
      "cell_type": "code",
      "source": [
        "model1.wv[\"request\"]"
      ],
      "metadata": {
        "id": "EBqTzYWaq-36"
      },
      "execution_count": null,
      "outputs": []
    },
    {
      "cell_type": "markdown",
      "source": [
        "## Data"
      ],
      "metadata": {
        "id": "pSe04zNWp-Qd"
      }
    },
    {
      "cell_type": "code",
      "source": [
        "l[0]"
      ],
      "metadata": {
        "colab": {
          "base_uri": "https://localhost:8080/"
        },
        "id": "T1yohH3yg7eE",
        "outputId": "a0d7dff3-8d18-4b2c-8223-c0c265c57848"
      },
      "execution_count": null,
      "outputs": [
        {
          "output_type": "execute_result",
          "data": {
            "text/plain": [
              "['comment below if u tend to agree with I and not', '1']"
            ]
          },
          "metadata": {},
          "execution_count": 39
        }
      ]
    },
    {
      "cell_type": "code",
      "source": [
        "r[0]"
      ],
      "metadata": {
        "colab": {
          "base_uri": "https://localhost:8080/"
        },
        "id": "CZeHl15qg9Rm",
        "outputId": "a65ba880-c27c-4cf8-a9dc-63a58affb01f"
      },
      "execution_count": null,
      "outputs": [
        {
          "output_type": "execute_result",
          "data": {
            "text/plain": [
              "['1', '🤮']"
            ]
          },
          "metadata": {},
          "execution_count": 40
        }
      ]
    },
    {
      "cell_type": "code",
      "source": [
        "len(l)"
      ],
      "metadata": {
        "colab": {
          "base_uri": "https://localhost:8080/"
        },
        "id": "YF5BYdK9CX1O",
        "outputId": "5577d498-f07f-47b8-f686-64f7e371a699"
      },
      "execution_count": null,
      "outputs": [
        {
          "output_type": "execute_result",
          "data": {
            "text/plain": [
              "30010"
            ]
          },
          "metadata": {},
          "execution_count": 18
        }
      ]
    },
    {
      "cell_type": "code",
      "source": [
        "train_data_encoding = []\n",
        "labels_number = []\n",
        "\n",
        "for (x,y) in w:\n",
        "  word_encode = []\n",
        "  for word in x:\n",
        "    try:\n",
        "      encode = model1.wv[word]\n",
        "      word_encode.append(encode)\n",
        "    except KeyError:\n",
        "      pass\n",
        "  if len(word_encode) != 0:\n",
        "    # word_encode = torch.Tensor(word_encode)\n",
        "    train_data_encoding.append(word_encode)\n",
        "    labels_number.append(int(y))\n"
      ],
      "metadata": {
        "id": "9psd2uPy0s_u"
      },
      "execution_count": null,
      "outputs": []
    },
    {
      "cell_type": "code",
      "source": [
        "train_data_encoding[1]"
      ],
      "metadata": {
        "id": "s1TCHPGb47xG"
      },
      "execution_count": null,
      "outputs": []
    },
    {
      "cell_type": "code",
      "source": [
        "x_data = []\n",
        "for i in train_data_encoding:\n",
        "  add = np.mean(i, axis = 0)\n",
        "  x_data.append(add)"
      ],
      "metadata": {
        "id": "peu5SPN6Cq88"
      },
      "execution_count": null,
      "outputs": []
    },
    {
      "cell_type": "code",
      "source": [
        "x_data[3].shape"
      ],
      "metadata": {
        "colab": {
          "base_uri": "https://localhost:8080/"
        },
        "id": "gipylav-Mioy",
        "outputId": "ba282a38-045c-49d1-a201-2f4a320cc16e"
      },
      "execution_count": null,
      "outputs": [
        {
          "output_type": "execute_result",
          "data": {
            "text/plain": [
              "(50,)"
            ]
          },
          "metadata": {},
          "execution_count": 218
        }
      ]
    },
    {
      "cell_type": "code",
      "source": [
        "len(set(labels_number))"
      ],
      "metadata": {
        "colab": {
          "base_uri": "https://localhost:8080/"
        },
        "id": "l-XjP8b8Dwl9",
        "outputId": "c98f3721-a8e1-46f2-ca54-13c663031a02"
      },
      "execution_count": null,
      "outputs": [
        {
          "output_type": "execute_result",
          "data": {
            "text/plain": [
              "50"
            ]
          },
          "metadata": {},
          "execution_count": 234
        }
      ]
    },
    {
      "cell_type": "code",
      "source": [
        "set_labels_number = set(labels_number)\n",
        "\n",
        "num_occurence_emoji = []\n",
        "\n",
        "for i in set_labels_number:\n",
        "  num_occurence_emoji.append(labels_number.count(i))"
      ],
      "metadata": {
        "id": "wgs9OiKIIf8s"
      },
      "execution_count": null,
      "outputs": []
    },
    {
      "cell_type": "code",
      "source": [
        "sum((sorted(num_occurence_emoji)[-51:]))"
      ],
      "metadata": {
        "id": "HZ8D5WxGKNrn",
        "colab": {
          "base_uri": "https://localhost:8080/"
        },
        "outputId": "f00ab2cb-737d-4d8f-9f98-f72531fe3af8"
      },
      "execution_count": null,
      "outputs": [
        {
          "output_type": "execute_result",
          "data": {
            "text/plain": [
              "16177"
            ]
          },
          "metadata": {},
          "execution_count": 106
        }
      ]
    },
    {
      "cell_type": "code",
      "source": [
        "most_frequent_emoji50 = []\n",
        "set_labels_number = list(set_labels_number)\n",
        "\n",
        "for j in range(len(num_occurence_emoji)):\n",
        "    if num_occurence_emoji[j] >= 140:\n",
        "      most_frequent_emoji50.append(set_labels_number[j])"
      ],
      "metadata": {
        "id": "haKO7PymKekH"
      },
      "execution_count": null,
      "outputs": []
    },
    {
      "cell_type": "code",
      "source": [
        "len(most_frequent_emoji50)"
      ],
      "metadata": {
        "id": "HfwRIQQ3LKl0",
        "colab": {
          "base_uri": "https://localhost:8080/"
        },
        "outputId": "d4c6b7ef-e5a8-49f0-ab25-b16c2cd1a5a6"
      },
      "execution_count": null,
      "outputs": [
        {
          "output_type": "execute_result",
          "data": {
            "text/plain": [
              "51"
            ]
          },
          "metadata": {},
          "execution_count": 25
        }
      ]
    },
    {
      "cell_type": "code",
      "source": [
        "new_x_data = []\n",
        "new_labels = []\n",
        "\n",
        "for i in range(len(labels_number)):\n",
        "  if labels_number[i] in most_frequent_emoji50:\n",
        "    new_x_data.append(x_data[i])\n",
        "    new_labels.append(int(labels_number[i]))"
      ],
      "metadata": {
        "id": "fltrNeF6Mdsf"
      },
      "execution_count": null,
      "outputs": []
    },
    {
      "cell_type": "code",
      "source": [
        "len(new_x_data)"
      ],
      "metadata": {
        "colab": {
          "base_uri": "https://localhost:8080/"
        },
        "id": "uX1-mToIMvCn",
        "outputId": "d260147c-8b4e-4c85-f7bd-8c82925f5dee"
      },
      "execution_count": null,
      "outputs": [
        {
          "output_type": "execute_result",
          "data": {
            "text/plain": [
              "16177"
            ]
          },
          "metadata": {},
          "execution_count": 31
        }
      ]
    },
    {
      "cell_type": "code",
      "source": [
        "new_labels.count(39)"
      ],
      "metadata": {
        "id": "Dt27eME2YMH6",
        "colab": {
          "base_uri": "https://localhost:8080/"
        },
        "outputId": "08c6b22e-9b7b-4436-c2e5-449b093b1b0d"
      },
      "execution_count": null,
      "outputs": [
        {
          "output_type": "execute_result",
          "data": {
            "text/plain": [
              "984"
            ]
          },
          "metadata": {},
          "execution_count": 116
        }
      ]
    },
    {
      "cell_type": "code",
      "source": [
        "y_set = sorted((set(new_labels)))"
      ],
      "metadata": {
        "id": "yE1zwYDMTU1w"
      },
      "execution_count": null,
      "outputs": []
    },
    {
      "cell_type": "code",
      "source": [
        "y_set[10]"
      ],
      "metadata": {
        "colab": {
          "base_uri": "https://localhost:8080/"
        },
        "id": "L4vYp8u5pn1W",
        "outputId": "8bd2538c-4266-4372-8d4c-3dff7958c290"
      },
      "execution_count": null,
      "outputs": [
        {
          "output_type": "execute_result",
          "data": {
            "text/plain": [
              "39"
            ]
          },
          "metadata": {},
          "execution_count": 121
        }
      ]
    },
    {
      "cell_type": "code",
      "source": [
        "emoji_set = []\n",
        "for i in y_set:\n",
        "  emoji_set.append(r[i])"
      ],
      "metadata": {
        "id": "AemCYxIf23BU"
      },
      "execution_count": null,
      "outputs": []
    },
    {
      "cell_type": "code",
      "source": [
        "emoji_set"
      ],
      "metadata": {
        "id": "H6r9zcYT3Aih"
      },
      "execution_count": null,
      "outputs": []
    },
    {
      "cell_type": "code",
      "source": [
        "for number, i in enumerate(y_set):\n",
        "  for j in range(len(new_labels)):\n",
        "    if new_labels[j] == i:\n",
        "        new_labels[j] = number"
      ],
      "metadata": {
        "id": "a6EJ1uHghl6o"
      },
      "execution_count": null,
      "outputs": []
    },
    {
      "cell_type": "code",
      "source": [
        "new_labels.count(10)"
      ],
      "metadata": {
        "colab": {
          "base_uri": "https://localhost:8080/"
        },
        "id": "Zyaeh3ympwef",
        "outputId": "d49ee07e-0188-4cc1-f3a4-7666c30b2105"
      },
      "execution_count": null,
      "outputs": [
        {
          "output_type": "execute_result",
          "data": {
            "text/plain": [
              "984"
            ]
          },
          "metadata": {},
          "execution_count": 123
        }
      ]
    },
    {
      "cell_type": "code",
      "source": [
        "test_size = 0.2\n",
        "\n",
        "X_train, X_test, Y_train, Y_test = train_test_split(x_data, labels_number, test_size=test_size)\n",
        "\n",
        "# To create a validation set, we first concate the original splitted dataset into a single dataset \n",
        "# then randomly shuffle the images and labels in the same way (seed = 1)\n",
        "X_data = np.concatenate([X_train, X_test], axis = 0)\n",
        "Y_data = np.concatenate([Y_train, Y_test], axis = 0)\n",
        "\n",
        "N = np.arange(len(X_data))\n",
        "np.random.shuffle(N)\n",
        "X_data = X_data[N]\n",
        "Y_data = Y_data[N]\n",
        "\n",
        "# Next, we partition the randomly shuffled dataset into training, validation and testset according a ratio\n",
        "train_ratio = 0.80\n",
        "valid_ratio = 0.10\n",
        "n_train = int(len(X_data) * train_ratio)\n",
        "n_valid = int(len(X_data) * valid_ratio)\n",
        "\n",
        "X_train, X_valid, X_test = X_data[:n_train], X_data[n_train:n_train+n_valid], X_data[n_train+n_valid:]\n",
        "Y_train, Y_valid, Y_test = Y_data[:n_train], Y_data[n_train:n_train+n_valid], Y_data[n_train+n_valid:]"
      ],
      "metadata": {
        "id": "eZsxt0ijGd2V"
      },
      "execution_count": null,
      "outputs": []
    },
    {
      "cell_type": "code",
      "source": [
        "max(set(Y_train))"
      ],
      "metadata": {
        "id": "LIWZ8AGXcyh8"
      },
      "execution_count": null,
      "outputs": []
    },
    {
      "cell_type": "markdown",
      "source": [
        "# Model (2 layers)"
      ],
      "metadata": {
        "id": "ORY1g-nk0RCX"
      }
    },
    {
      "cell_type": "code",
      "source": [
        "class Emoji_Predictor(torch.nn.Module):\n",
        "    def __init__(self, input):\n",
        "        super(Emoji_Predictor, self).__init__()\n",
        "        self.input = input\n",
        "        self.fc1 = torch.nn.Linear(self.input, 128)  # input layer: 3 word embeddings concatenated\n",
        "        self.fc2 = torch.nn.Linear(128, 64)  # hidden layer\n",
        "        # self.fc2_2 = torch.nn.Linear(256, 128) \n",
        "        self.fc3 = torch.nn.Linear(64, 51)  # output layer\n",
        "        self.dropout = torch.nn.Dropout(0.2)\n",
        "\n",
        "    def forward(self, x):\n",
        "        \n",
        "        x = torch.nn.functional.relu(self.fc1(x))\n",
        "        x = self.dropout(x)\n",
        "        x = torch.nn.functional.relu(self.fc2(x))\n",
        "        # x = self.dropout(x)\n",
        "        # x = torch.nn.functional.relu(self.fc2_2(x))\n",
        "        x = self.fc3(x)\n",
        "        return x"
      ],
      "metadata": {
        "id": "8hJiTo5Y0Ssa"
      },
      "execution_count": null,
      "outputs": []
    },
    {
      "cell_type": "code",
      "source": [
        "input = 1000"
      ],
      "metadata": {
        "id": "H77mXSox0lAi"
      },
      "execution_count": null,
      "outputs": []
    },
    {
      "cell_type": "code",
      "source": [
        "model = Emoji_Predictor(input)"
      ],
      "metadata": {
        "id": "v7FEWOAK21aE"
      },
      "execution_count": null,
      "outputs": []
    },
    {
      "cell_type": "code",
      "source": [
        "epochs = 1800\n",
        "learning_rate = 0.00005"
      ],
      "metadata": {
        "id": "-LJdVY7l26t6"
      },
      "execution_count": null,
      "outputs": []
    },
    {
      "cell_type": "code",
      "source": [
        "optimizer = torch.optim.Adam(model.parameters(), lr=learning_rate)\n",
        "# cross entropy loss\n",
        "criterion = torch.nn.CrossEntropyLoss()"
      ],
      "metadata": {
        "id": "Onn9jAWd29__"
      },
      "execution_count": null,
      "outputs": []
    },
    {
      "cell_type": "markdown",
      "source": [
        "## Training"
      ],
      "metadata": {
        "id": "v22qxSJP3KG-"
      }
    },
    {
      "cell_type": "code",
      "source": [
        "X_train, X_valid, X_test = torch.Tensor(X_train), torch.Tensor(X_valid), torch.Tensor(X_test)\n",
        "Y_train, Y_valid, Y_test = torch.Tensor(Y_train), torch.Tensor(Y_valid), torch.Tensor(Y_test)"
      ],
      "metadata": {
        "id": "YIWgMs714K2V"
      },
      "execution_count": null,
      "outputs": []
    },
    {
      "cell_type": "code",
      "source": [
        "Y_train = Y_train.type(torch.long)"
      ],
      "metadata": {
        "id": "oRP7Cr0wb-pK"
      },
      "execution_count": null,
      "outputs": []
    },
    {
      "cell_type": "code",
      "source": [
        "Y_valid = Y_valid.type(torch.long)"
      ],
      "metadata": {
        "id": "HHMR5uI-fOUG"
      },
      "execution_count": null,
      "outputs": []
    },
    {
      "cell_type": "code",
      "source": [
        "Loss = []\n",
        "iter = 0\n",
        "losses_test_1emoji = []\n",
        "losses_test_3emoji = []\n",
        "accuracy_1emo = []\n",
        "accuracy_3mo = []\n",
        "accuracy_train = []\n",
        "\n",
        "Iterations = []\n",
        "output = None\n",
        "\n",
        "for epoch in range(epochs):\n",
        "\n",
        "  x = X_train\n",
        "  \n",
        "  outputs = model(x)\n",
        "\n",
        "  optimizer.zero_grad()\n",
        " \n",
        "  loss = criterion(outputs, Y_train)\n",
        "\n",
        "  loss.backward()\n",
        "  optimizer.step() \n",
        "  \n",
        "\n",
        "  iter+=1\n",
        "  if iter%100==0:\n",
        "      with torch.no_grad():\n",
        "          # Calculating the loss and accuracy for the valid dataset - 1 emoji\n",
        "          correct_test = 0\n",
        "          total_test = 0\n",
        "          correct_test_3emo = 0\n",
        "\n",
        "          outputs_test = torch.squeeze(model(X_valid))\n",
        "          loss_test = criterion(outputs_test, Y_valid)\n",
        "          \n",
        "          predicted_test = outputs_test.round().detach().numpy()\n",
        "          total_test += Y_valid.size(0)\n",
        "\n",
        "          # 1 emoji\n",
        "          correct_test += np.sum(predicted_test.argmax(axis=1) == Y_valid.detach().numpy())\n",
        "          accuracy_test = 100 * correct_test/total_test\n",
        "          losses_test_1emoji.append(loss_test.item())\n",
        "          accuracy_1emo.append(accuracy_test)\n",
        "\n",
        "          # 3 emoji\n",
        "          topk_values, topk_indices = torch.topk(outputs_test, k=3, dim=1)\n",
        "          num_columns = topk_indices.shape[1]\n",
        "          for i in range(num_columns):\n",
        "            column = topk_indices[:, i]\n",
        "            correct_test_3emo += torch.sum(column == Y_valid)\n",
        "          accuracy_test_3mo = 100 * correct_test_3emo/total_test\n",
        "          losses_test_3emoji.append(loss_test.item())\n",
        "          accuracy_3mo.append(accuracy_test_3mo)\n",
        "          \n",
        "          # Calculating the loss and accuracy for the train dataset\n",
        "          total = 0\n",
        "          correct = 0\n",
        "          total += Y_train.size(0)\n",
        "          correct += np.sum(torch.squeeze(outputs).round().detach().numpy().argmax(axis=1) == Y_train.detach().numpy())\n",
        "          accuracy = 100 * correct/total\n",
        "          Loss.append(loss.item())\n",
        "          Iterations.append(iter)\n",
        "          accuracy_train.append(accuracy)\n",
        "          \n",
        "          print(f\"Iteration: {iter}. \\nValid_1emoji - Loss: {loss_test.item()}. Accuracy: {accuracy_test}\")\n",
        "          print(f\"Valid_3emoji -  Loss: {loss.item()}. Accuracy: {accuracy_test_3mo}\\n\")\n",
        "          print(f\"Train -  Loss: {loss.item()}. Accuracy: {accuracy}\\n\")\n",
        "          \n"
      ],
      "metadata": {
        "colab": {
          "base_uri": "https://localhost:8080/"
        },
        "id": "uN5Ty2Jq3J1C",
        "outputId": "a8863fc9-7810-4918-c073-388f676e2c7d"
      },
      "execution_count": null,
      "outputs": [
        {
          "output_type": "stream",
          "name": "stdout",
          "text": [
            "Iteration: 100. \n",
            "Valid_1emoji - Loss: 3.8460958003997803. Accuracy: 8.338480543545398\n",
            "Valid_3emoji -  Loss: 3.8387610912323. Accuracy: 21.556516647338867\n",
            "\n",
            "Train -  Loss: 3.8387610912323. Accuracy: 8.40342619029246\n",
            "\n",
            "Iteration: 200. \n",
            "Valid_1emoji - Loss: 3.7052581310272217. Accuracy: 10.809141445336628\n",
            "Valid_3emoji -  Loss: 3.6778743267059326. Accuracy: 24.64484214782715\n",
            "\n",
            "Train -  Loss: 3.6778743267059326. Accuracy: 11.227718188131801\n",
            "\n",
            "Iteration: 300. \n",
            "Valid_1emoji - Loss: 3.679222345352173. Accuracy: 11.05620753551575\n",
            "Valid_3emoji -  Loss: 3.650430917739868. Accuracy: 24.70660972595215\n",
            "\n",
            "Train -  Loss: 3.650430917739868. Accuracy: 12.470098001388996\n",
            "\n",
            "Iteration: 400. \n",
            "Valid_1emoji - Loss: 3.6734821796417236. Accuracy: 10.870907967881408\n",
            "Valid_3emoji -  Loss: 3.6456425189971924. Accuracy: 24.70660972595215\n",
            "\n",
            "Train -  Loss: 3.6456425189971924. Accuracy: 12.547264449417394\n",
            "\n",
            "Iteration: 500. \n",
            "Valid_1emoji - Loss: 3.6705048084259033. Accuracy: 11.11797405806053\n",
            "Valid_3emoji -  Loss: 3.6432197093963623. Accuracy: 24.70660972595215\n",
            "\n",
            "Train -  Loss: 3.6432197093963623. Accuracy: 12.508681225403194\n",
            "\n",
            "Iteration: 600. \n",
            "Valid_1emoji - Loss: 3.6684534549713135. Accuracy: 10.99444101297097\n",
            "Valid_3emoji -  Loss: 3.6372058391571045. Accuracy: 24.70660972595215\n",
            "\n",
            "Train -  Loss: 3.6372058391571045. Accuracy: 12.570414383825913\n",
            "\n",
            "Iteration: 700. \n",
            "Valid_1emoji - Loss: 3.6658287048339844. Accuracy: 10.809141445336628\n",
            "Valid_3emoji -  Loss: 3.630674123764038. Accuracy: 24.58307647705078\n",
            "\n",
            "Train -  Loss: 3.630674123764038. Accuracy: 12.500964580600355\n",
            "\n",
            "Iteration: 800. \n",
            "Valid_1emoji - Loss: 3.6576120853424072. Accuracy: 10.809141445336628\n",
            "Valid_3emoji -  Loss: 3.623764753341675. Accuracy: 24.830142974853516\n",
            "\n",
            "Train -  Loss: 3.623764753341675. Accuracy: 12.531831159811714\n",
            "\n",
            "Iteration: 900. \n",
            "Valid_1emoji - Loss: 3.6523849964141846. Accuracy: 11.11797405806053\n",
            "Valid_3emoji -  Loss: 3.6168200969696045. Accuracy: 25.077207565307617\n",
            "\n",
            "Train -  Loss: 3.6168200969696045. Accuracy: 12.562697739023072\n",
            "\n",
            "Iteration: 1000. \n",
            "Valid_1emoji - Loss: 3.6475629806518555. Accuracy: 10.809141445336628\n",
            "Valid_3emoji -  Loss: 3.6120264530181885. Accuracy: 25.01544189453125\n",
            "\n",
            "Train -  Loss: 3.6120264530181885. Accuracy: 12.547264449417394\n",
            "\n",
            "Iteration: 1100. \n",
            "Valid_1emoji - Loss: 3.6425533294677734. Accuracy: 10.623841877702285\n",
            "Valid_3emoji -  Loss: 3.606041431427002. Accuracy: 25.262508392333984\n",
            "\n",
            "Train -  Loss: 3.606041431427002. Accuracy: 12.470098001388996\n",
            "\n",
            "Iteration: 1200. \n",
            "Valid_1emoji - Loss: 3.6409246921539307. Accuracy: 10.685608400247066\n",
            "Valid_3emoji -  Loss: 3.6042098999023438. Accuracy: 24.95367431640625\n",
            "\n",
            "Train -  Loss: 3.6042098999023438. Accuracy: 12.678447411065669\n",
            "\n",
            "Iteration: 1300. \n",
            "Valid_1emoji - Loss: 3.6375246047973633. Accuracy: 11.05620753551575\n",
            "Valid_3emoji -  Loss: 3.599825382232666. Accuracy: 25.32427406311035\n",
            "\n",
            "Train -  Loss: 3.599825382232666. Accuracy: 12.446948066980477\n",
            "\n",
            "Iteration: 1400. \n",
            "Valid_1emoji - Loss: 3.6359081268310547. Accuracy: 10.932674490426189\n",
            "Valid_3emoji -  Loss: 3.5977048873901367. Accuracy: 25.138975143432617\n",
            "\n",
            "Train -  Loss: 3.5977048873901367. Accuracy: 12.493247935797514\n",
            "\n",
            "Iteration: 1500. \n",
            "Valid_1emoji - Loss: 3.6311163902282715. Accuracy: 11.303273625694873\n",
            "Valid_3emoji -  Loss: 3.590740919113159. Accuracy: 25.01544189453125\n",
            "\n",
            "Train -  Loss: 3.590740919113159. Accuracy: 12.678447411065669\n",
            "\n",
            "Iteration: 1600. \n",
            "Valid_1emoji - Loss: 3.6312930583953857. Accuracy: 11.179740580605312\n",
            "Valid_3emoji -  Loss: 3.587437152862549. Accuracy: 25.01544189453125\n",
            "\n",
            "Train -  Loss: 3.587437152862549. Accuracy: 12.446948066980477\n",
            "\n",
            "Iteration: 1700. \n",
            "Valid_1emoji - Loss: 3.628405809402466. Accuracy: 11.179740580605312\n",
            "Valid_3emoji -  Loss: 3.5829825401306152. Accuracy: 24.768375396728516\n",
            "\n",
            "Train -  Loss: 3.5829825401306152. Accuracy: 12.90994675515086\n",
            "\n",
            "Iteration: 1800. \n",
            "Valid_1emoji - Loss: 3.622516393661499. Accuracy: 11.488573193329216\n",
            "Valid_3emoji -  Loss: 3.5791215896606445. Accuracy: 25.138975143432617\n",
            "\n",
            "Train -  Loss: 3.5791215896606445. Accuracy: 12.724747279882706\n",
            "\n"
          ]
        }
      ]
    },
    {
      "cell_type": "code",
      "source": [
        "import matplotlib.pyplot as plt\n",
        "\n",
        "plt.title(\"Train vs Validation Loss\")\n",
        "plt.plot(Loss, label=\"Train\")\n",
        "plt.plot(losses_test_1emoji, label=\"Validation\")\n",
        "plt.xlabel(\"Epoch\")\n",
        "plt.ylabel(\"Loss\")\n",
        "plt.legend(loc='best')\n",
        "plt.show()"
      ],
      "metadata": {
        "colab": {
          "base_uri": "https://localhost:8080/",
          "height": 472
        },
        "id": "fvhpcFPCjRcg",
        "outputId": "bcb131a9-a730-4121-b95d-00d30b3f75f5"
      },
      "execution_count": null,
      "outputs": [
        {
          "output_type": "display_data",
          "data": {
            "text/plain": [
              "<Figure size 640x480 with 1 Axes>"
            ],
            "image/png": "[encoded data removed]"
          },
          "metadata": {}
        }
      ]
    },
    {
      "cell_type": "code",
      "source": [
        "import matplotlib.pyplot as plt\n",
        "\n",
        "plt.title(\"Train vs Validation Accuracy\")\n",
        "plt.plot(accuracy_1emo, label=\"Validation (1 emoji)\")\n",
        "plt.plot(accuracy_train, label=\"Train\")\n",
        "plt.plot(accuracy_3mo, label=\"Validation (3 emoji)\")\n",
        "plt.xlabel(\"Epoch\")\n",
        "plt.ylabel(\"Accuracy\")\n",
        "plt.legend(loc='best')\n",
        "plt.show()"
      ],
      "metadata": {
        "colab": {
          "base_uri": "https://localhost:8080/",
          "height": 472
        },
        "id": "ylUfSezBIQTD",
        "outputId": "48d7b192-496c-4b61-e6fa-bcc02fd607cb"
      },
      "execution_count": null,
      "outputs": [
        {
          "output_type": "display_data",
          "data": {
            "text/plain": [
              "<Figure size 640x480 with 1 Axes>"
            ],
            "image/png": "[encoded data removed]"
          },
          "metadata": {}
        }
      ]
    },
    {
      "cell_type": "code",
      "source": [
        "Y_test = Y_test.type(torch.long)"
      ],
      "metadata": {
        "id": "IpyKwJ88Xjog"
      },
      "execution_count": null,
      "outputs": []
    },
    {
      "cell_type": "code",
      "source": [
        "Loss = []\n",
        "iter = 0\n",
        "losses_test = []\n",
        "losses_test_3emoji = []\n",
        "output = None\n",
        "\n",
        "correct_test = 0\n",
        "total_test = 0\n",
        "correct_test_3emo = 0\n",
        "\n",
        "outputs_test = torch.squeeze(model(X_test))\n",
        "loss_test = criterion(outputs_test, Y_test)\n",
        "          \n",
        "predicted_test = outputs_test.round().detach().numpy()\n",
        "total_test += Y_test.size(0)\n",
        "correct_test += np.sum(predicted_test.argmax(axis=1) == Y_test.detach().numpy())\n",
        "accuracy_test = 100 * correct_test/total_test\n",
        "losses_test.append(loss_test.item())\n",
        "          \n",
        "# 3 emoji\n",
        "topk_values, topk_indices = torch.topk(outputs_test, k=3, dim=1)\n",
        "num_columns = topk_indices.shape[1]\n",
        "for i in range(num_columns):\n",
        "  column = topk_indices[:, i]\n",
        "  correct_test_3emo += torch.sum(column == Y_test)\n",
        "\n",
        "accuracy_test_3mo = 100 * correct_test_3emo/total_test\n",
        "losses_test_3emoji.append(loss_test.item())\n",
        "          \n",
        "          \n",
        "print(f\"Test_1emoji - Loss: {loss_test.item()}. Accuracy: {accuracy_test}\")  \n",
        "print(f\"Test_3emoji - Loss: {loss_test.item()}. Accuracy: {accuracy_test_3mo}\")    "
      ],
      "metadata": {
        "colab": {
          "base_uri": "https://localhost:8080/"
        },
        "id": "cn_ILz-1RG-r",
        "outputId": "6e6db2a7-ac91-48c3-ecd7-59ffce62652b"
      },
      "execution_count": null,
      "outputs": [
        {
          "output_type": "stream",
          "name": "stdout",
          "text": [
            "Test_1emoji - Loss: 3.630661725997925. Accuracy: 11.597779148673657\n",
            "Test_3emoji - Loss: 3.630661725997925. Accuracy: 24.737815856933594\n"
          ]
        }
      ]
    },
    {
      "cell_type": "code",
      "source": [
        "topk_values, topk_indices = torch.topk(outputs_test, k=3, dim=1)\n",
        "num_columns = topk_indices.shape[1]\n",
        "for i in range(num_columns):\n",
        "  column = topk_indices[:, i]\n",
        "  correct_test_3emo += torch.sum(column == Y_test)"
      ],
      "metadata": {
        "id": "SLvgxLyrWF4w"
      },
      "execution_count": null,
      "outputs": []
    },
    {
      "cell_type": "code",
      "source": [
        "print(l[9],l[11],l[15],l[17])"
      ],
      "metadata": {
        "colab": {
          "base_uri": "https://localhost:8080/"
        },
        "id": "yjnrDnoWS4F6",
        "outputId": "7dd6f483-5aae-4d2d-c858-a68e16a6383a"
      },
      "execution_count": null,
      "outputs": [
        {
          "output_type": "stream",
          "name": "stdout",
          "text": [
            "['10', '🔥'] ['12', '❤️'] ['16', '🙏'] ['18', '😂']\n"
          ]
        }
      ]
    },
    {
      "cell_type": "code",
      "source": [
        "topk_indices[201:206]"
      ],
      "metadata": {
        "colab": {
          "base_uri": "https://localhost:8080/"
        },
        "id": "C6umfOeCWHjc",
        "outputId": "9d0b9a42-4c5e-4457-fbc6-2e50db682f96"
      },
      "execution_count": null,
      "outputs": [
        {
          "output_type": "execute_result",
          "data": {
            "text/plain": [
              "tensor([[12, 16, 18],\n",
              "        [12, 18, 10],\n",
              "        [12, 10, 18],\n",
              "        [12, 18, 16],\n",
              "        [12, 10, 18]])"
            ]
          },
          "metadata": {},
          "execution_count": 80
        }
      ]
    },
    {
      "cell_type": "code",
      "source": [
        "Y_test[201:206]"
      ],
      "metadata": {
        "colab": {
          "base_uri": "https://localhost:8080/"
        },
        "id": "FivbqkjSUu7Z",
        "outputId": "93b91ba2-6758-420d-af2d-6605c25670e1"
      },
      "execution_count": null,
      "outputs": [
        {
          "output_type": "execute_result",
          "data": {
            "text/plain": [
              "tensor([24,  2, 10, 18, 12])"
            ]
          },
          "metadata": {},
          "execution_count": 81
        }
      ]
    }
  ]
}
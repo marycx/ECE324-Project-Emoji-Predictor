{
  "cells": [
    {
      "cell_type": "markdown",
      "metadata": {
        "id": "view-in-github",
        "colab_type": "text"
      },
      "source": [
        "<a href=\"https://colab.research.google.com/github/marycx/ECE324-Project-Emoji-Predictor/blob/main/upload_data_preprocess.ipynb\" target=\"_parent\"><img src=\"https://colab.research.google.com/assets/colab-badge.svg\" alt=\"Open In Colab\"/></a>"
      ]
    },
    {
      "cell_type": "markdown",
      "metadata": {
        "id": "IGI1m-abqJGd"
      },
      "source": [
        "# Package Installation\n"
      ]
    },
    {
      "cell_type": "code",
      "execution_count": null,
      "metadata": {
        "id": "y-BIU5DIIQJL"
      },
      "outputs": [],
      "source": [
        "# Install pandas\n",
        "!pip install pandas\n",
        "\n",
        "# Install langid\n",
        "!pip install langid\n",
        "\n",
        "# Install spacy\n",
        "!pip install spacy\n",
        "\n",
        "# Download the English language model in spacy\n",
        "!python -m spacy download en_core_web_sm\n",
        "\n",
        "# Install emoji\n",
        "!pip install emoji==1.7"
      ]
    },
    {
      "cell_type": "code",
      "execution_count": null,
      "metadata": {
        "id": "prayZOyNJgJF"
      },
      "outputs": [],
      "source": [
        "import pandas as pd # read csv\n",
        "import emoji # find emoji\n",
        "import langid # remove non-English text\n",
        "import re # remove url etc.\n",
        "import spacy # lemmatization\n",
        "import html"
      ]
    },
    {
      "cell_type": "markdown",
      "metadata": {
        "id": "gcAyj8ARSt2M"
      },
      "source": [
        "## Read CSV Data"
      ]
    },
    {
      "cell_type": "code",
      "execution_count": null,
      "metadata": {
        "colab": {
          "base_uri": "https://localhost:8080/",
          "height": 75
        },
        "id": "JF5Wvip0Jtkm",
        "outputId": "0467ccf3-4c1c-45cf-8e2e-b99dd09df45d"
      },
      "outputs": [
        {
          "output_type": "display_data",
          "data": {
            "text/plain": [
              "<IPython.core.display.HTML object>"
            ],
            "text/html": [
              "\n",
              "     <input type=\"file\" id=\"files-90e24b9b-277d-40c8-87d5-7f1a4fbff2c2\" name=\"files[]\" multiple disabled\n",
              "        style=\"border:none\" />\n",
              "     <output id=\"result-90e24b9b-277d-40c8-87d5-7f1a4fbff2c2\">\n",
              "      Upload widget is only available when the cell has been executed in the\n",
              "      current browser session. Please rerun this cell to enable.\n",
              "      </output>\n",
              "      <script>// Copyright 2017 Google LLC\n",
              "//\n",
              "// Licensed under the Apache License, Version 2.0 (the \"License\");\n",
              "// you may not use this file except in compliance with the License.\n",
              "// You may obtain a copy of the License at\n",
              "//\n",
              "//      http://www.apache.org/licenses/LICENSE-2.0\n",
              "//\n",
              "// Unless required by applicable law or agreed to in writing, software\n",
              "// distributed under the License is distributed on an \"AS IS\" BASIS,\n",
              "// WITHOUT WARRANTIES OR CONDITIONS OF ANY KIND, either express or implied.\n",
              "// See the License for the specific language governing permissions and\n",
              "// limitations under the License.\n",
              "\n",
              "/**\n",
              " * @fileoverview Helpers for google.colab Python module.\n",
              " */\n",
              "(function(scope) {\n",
              "function span(text, styleAttributes = {}) {\n",
              "  const element = document.createElement('span');\n",
              "  element.textContent = text;\n",
              "  for (const key of Object.keys(styleAttributes)) {\n",
              "    element.style[key] = styleAttributes[key];\n",
              "  }\n",
              "  return element;\n",
              "}\n",
              "\n",
              "// Max number of bytes which will be uploaded at a time.\n",
              "const MAX_PAYLOAD_SIZE = 100 * 1024;\n",
              "\n",
              "function _uploadFiles(inputId, outputId) {\n",
              "  const steps = uploadFilesStep(inputId, outputId);\n",
              "  const outputElement = document.getElementById(outputId);\n",
              "  // Cache steps on the outputElement to make it available for the next call\n",
              "  // to uploadFilesContinue from Python.\n",
              "  outputElement.steps = steps;\n",
              "\n",
              "  return _uploadFilesContinue(outputId);\n",
              "}\n",
              "\n",
              "// This is roughly an async generator (not supported in the browser yet),\n",
              "// where there are multiple asynchronous steps and the Python side is going\n",
              "// to poll for completion of each step.\n",
              "// This uses a Promise to block the python side on completion of each step,\n",
              "// then passes the result of the previous step as the input to the next step.\n",
              "function _uploadFilesContinue(outputId) {\n",
              "  const outputElement = document.getElementById(outputId);\n",
              "  const steps = outputElement.steps;\n",
              "\n",
              "  const next = steps.next(outputElement.lastPromiseValue);\n",
              "  return Promise.resolve(next.value.promise).then((value) => {\n",
              "    // Cache the last promise value to make it available to the next\n",
              "    // step of the generator.\n",
              "    outputElement.lastPromiseValue = value;\n",
              "    return next.value.response;\n",
              "  });\n",
              "}\n",
              "\n",
              "/**\n",
              " * Generator function which is called between each async step of the upload\n",
              " * process.\n",
              " * @param {string} inputId Element ID of the input file picker element.\n",
              " * @param {string} outputId Element ID of the output display.\n",
              " * @return {!Iterable<!Object>} Iterable of next steps.\n",
              " */\n",
              "function* uploadFilesStep(inputId, outputId) {\n",
              "  const inputElement = document.getElementById(inputId);\n",
              "  inputElement.disabled = false;\n",
              "\n",
              "  const outputElement = document.getElementById(outputId);\n",
              "  outputElement.innerHTML = '';\n",
              "\n",
              "  const pickedPromise = new Promise((resolve) => {\n",
              "    inputElement.addEventListener('change', (e) => {\n",
              "      resolve(e.target.files);\n",
              "    });\n",
              "  });\n",
              "\n",
              "  const cancel = document.createElement('button');\n",
              "  inputElement.parentElement.appendChild(cancel);\n",
              "  cancel.textContent = 'Cancel upload';\n",
              "  const cancelPromise = new Promise((resolve) => {\n",
              "    cancel.onclick = () => {\n",
              "      resolve(null);\n",
              "    };\n",
              "  });\n",
              "\n",
              "  // Wait for the user to pick the files.\n",
              "  const files = yield {\n",
              "    promise: Promise.race([pickedPromise, cancelPromise]),\n",
              "    response: {\n",
              "      action: 'starting',\n",
              "    }\n",
              "  };\n",
              "\n",
              "  cancel.remove();\n",
              "\n",
              "  // Disable the input element since further picks are not allowed.\n",
              "  inputElement.disabled = true;\n",
              "\n",
              "  if (!files) {\n",
              "    return {\n",
              "      response: {\n",
              "        action: 'complete',\n",
              "      }\n",
              "    };\n",
              "  }\n",
              "\n",
              "  for (const file of files) {\n",
              "    const li = document.createElement('li');\n",
              "    li.append(span(file.name, {fontWeight: 'bold'}));\n",
              "    li.append(span(\n",
              "        `(${file.type || 'n/a'}) - ${file.size} bytes, ` +\n",
              "        `last modified: ${\n",
              "            file.lastModifiedDate ? file.lastModifiedDate.toLocaleDateString() :\n",
              "                                    'n/a'} - `));\n",
              "    const percent = span('0% done');\n",
              "    li.appendChild(percent);\n",
              "\n",
              "    outputElement.appendChild(li);\n",
              "\n",
              "    const fileDataPromise = new Promise((resolve) => {\n",
              "      const reader = new FileReader();\n",
              "      reader.onload = (e) => {\n",
              "        resolve(e.target.result);\n",
              "      };\n",
              "      reader.readAsArrayBuffer(file);\n",
              "    });\n",
              "    // Wait for the data to be ready.\n",
              "    let fileData = yield {\n",
              "      promise: fileDataPromise,\n",
              "      response: {\n",
              "        action: 'continue',\n",
              "      }\n",
              "    };\n",
              "\n",
              "    // Use a chunked sending to avoid message size limits. See b/62115660.\n",
              "    let position = 0;\n",
              "    do {\n",
              "      const length = Math.min(fileData.byteLength - position, MAX_PAYLOAD_SIZE);\n",
              "      const chunk = new Uint8Array(fileData, position, length);\n",
              "      position += length;\n",
              "\n",
              "      const base64 = btoa(String.fromCharCode.apply(null, chunk));\n",
              "      yield {\n",
              "        response: {\n",
              "          action: 'append',\n",
              "          file: file.name,\n",
              "          data: base64,\n",
              "        },\n",
              "      };\n",
              "\n",
              "      let percentDone = fileData.byteLength === 0 ?\n",
              "          100 :\n",
              "          Math.round((position / fileData.byteLength) * 100);\n",
              "      percent.textContent = `${percentDone}% done`;\n",
              "\n",
              "    } while (position < fileData.byteLength);\n",
              "  }\n",
              "\n",
              "  // All done.\n",
              "  yield {\n",
              "    response: {\n",
              "      action: 'complete',\n",
              "    }\n",
              "  };\n",
              "}\n",
              "\n",
              "scope.google = scope.google || {};\n",
              "scope.google.colab = scope.google.colab || {};\n",
              "scope.google.colab._files = {\n",
              "  _uploadFiles,\n",
              "  _uploadFilesContinue,\n",
              "};\n",
              "})(self);\n",
              "</script> "
            ]
          },
          "metadata": {}
        },
        {
          "output_type": "stream",
          "name": "stdout",
          "text": [
            "Saving dataset_twitter-scraper.csv to dataset_twitter-scraper (1).csv\n"
          ]
        }
      ],
      "source": [
        "# Read the CSV file\n",
        "from google.colab import files\n",
        "uploaded = files.upload()"
      ]
    },
    {
      "cell_type": "code",
      "execution_count": null,
      "metadata": {
        "id": "zoDymfkkJ0cy"
      },
      "outputs": [],
      "source": [
        "import io\n",
        "\n",
        "data = pd.read_csv(io.BytesIO(uploaded['dataset_twitter-scraper.csv']))\n",
        "#data = pd.read_csv(\"dataset_twitter-scraper.csv\")\n",
        "\n",
        "#print(data[:10])\n",
        "# Open file \n",
        "import csv\n",
        "l = []\n",
        "with open('dataset_twitter-scraper.csv') as file_obj:\n",
        "      \n",
        "    heading = next(file_obj)\n",
        "    reader_obj = csv.reader(file_obj)\n",
        "      \n",
        "    # Iterate over each row in the csv \n",
        "    # file using reader object\n",
        "    for row in reader_obj:\n",
        "        l.append(row)"
      ]
    },
    {
      "cell_type": "code",
      "execution_count": null,
      "metadata": {
        "id": "7PptOjNA8LJz"
      },
      "outputs": [],
      "source": [
        "l[:20]"
      ]
    },
    {
      "cell_type": "markdown",
      "metadata": {
        "id": "Esnti1wnMXP5"
      },
      "source": [
        "# Remove any Invalid Text Entries"
      ]
    },
    {
      "cell_type": "markdown",
      "metadata": {
        "id": "_WkZutbmfRiF"
      },
      "source": [
        "## Remove no emoji text"
      ]
    },
    {
      "cell_type": "code",
      "execution_count": null,
      "metadata": {
        "id": "8ux5IdMNYpqU"
      },
      "outputs": [],
      "source": [
        "def isemoji(text):\n",
        "  for char in text:\n",
        "    #print(char)\n",
        "    if char in UNICODE_EMOJI['en']:\n",
        "      return 1\n",
        "  return 0"
      ]
    },
    {
      "cell_type": "code",
      "execution_count": null,
      "metadata": {
        "id": "BQu61xXaKHFS"
      },
      "outputs": [],
      "source": [
        "# Remove entries without an emoji\n",
        "from emoji import UNICODE_EMOJI\n",
        "import csv\n",
        "\n",
        "\n",
        "# Read lines sepearately\n",
        "with open(\"dataset_twitter-scraper.csv\", 'r') as file:\n",
        "  new_data = []\n",
        "  csvreader = csv.reader(file, delimiter = ' ')\n",
        "\n",
        "  count = 0 # check if I run all lines\n",
        "\n",
        "  for idx, line in enumerate(csvreader):\n",
        "    count = idx\n",
        "    for char in line:  \n",
        "      if isemoji(char):\n",
        "        new_data.append(char)\n"
      ]
    },
    {
      "cell_type": "code",
      "execution_count": null,
      "metadata": {
        "colab": {
          "base_uri": "https://localhost:8080/"
        },
        "id": "kipWHfMQgIg0",
        "outputId": "3c43025e-aa81-4b38-b55e-2cc5e09eb893"
      },
      "outputs": [
        {
          "data": {
            "text/plain": [
              "161805"
            ]
          },
          "execution_count": 7,
          "metadata": {},
          "output_type": "execute_result"
        }
      ],
      "source": [
        "count"
      ]
    },
    {
      "cell_type": "code",
      "execution_count": null,
      "metadata": {
        "colab": {
          "base_uri": "https://localhost:8080/"
        },
        "id": "KMD9iyLmQ52M",
        "outputId": "92d872dc-af56-4fab-ae42-13eef396861f"
      },
      "outputs": [
        {
          "data": {
            "text/plain": [
              "56782"
            ]
          },
          "execution_count": 17,
          "metadata": {},
          "output_type": "execute_result"
        }
      ],
      "source": [
        "len(new_data)"
      ]
    },
    {
      "cell_type": "markdown",
      "metadata": {
        "id": "fzxn16AdfN9I"
      },
      "source": [
        "## Remove Non-English"
      ]
    },
    {
      "cell_type": "code",
      "execution_count": null,
      "metadata": {
        "id": "x1FttX1lgsXY"
      },
      "outputs": [],
      "source": [
        "data = [text for text in new_data if langid.classify(text)[0] == 'en']"
      ]
    },
    {
      "cell_type": "code",
      "execution_count": null,
      "metadata": {
        "colab": {
          "base_uri": "https://localhost:8080/"
        },
        "id": "1yvikM_zhTSP",
        "outputId": "bfad671d-968e-44d4-df91-9ad37d1df4cd"
      },
      "outputs": [
        {
          "output_type": "execute_result",
          "data": {
            "text/plain": [
              "21281"
            ]
          },
          "metadata": {},
          "execution_count": 37
        }
      ],
      "source": [
        "len(data)"
      ]
    },
    {
      "cell_type": "code",
      "execution_count": null,
      "metadata": {
        "id": "SJT9Qt7wh9qt"
      },
      "outputs": [],
      "source": [
        "data # print to see data at this stage"
      ]
    },
    {
      "cell_type": "markdown",
      "metadata": {
        "id": "4vU1-Bmqy-7o"
      },
      "source": [
        "## Extract Emoji as Target\n",
        "\n",
        "\n"
      ]
    },
    {
      "cell_type": "code",
      "execution_count": null,
      "metadata": {
        "id": "HxA7rcw9zNij"
      },
      "outputs": [],
      "source": [
        "# Make a copy dataset that we never modify\n",
        "import copy\n",
        "data_dont_modify = copy.deepcopy(data)"
      ]
    },
    {
      "cell_type": "code",
      "execution_count": null,
      "metadata": {
        "id": "PxtPuWUx1UoB"
      },
      "outputs": [],
      "source": [
        "import regex\n",
        "\n",
        "def get_emoji(text):\n",
        "\n",
        "    emoji_list = []\n",
        "    data = regex.findall(r'\\X', text)\n",
        "    for word in data:\n",
        "        if any(char in emoji.UNICODE_EMOJI['en'] for char in word):\n",
        "            emoji_list.append(word)\n",
        "    \n",
        "    return emoji_list"
      ]
    },
    {
      "cell_type": "code",
      "execution_count": null,
      "metadata": {
        "id": "vw8OKgmszFSj"
      },
      "outputs": [],
      "source": [
        "text_data = []\n",
        "emoji_data = []\n",
        "all_emoji = []\n",
        "\n",
        "for line in data:\n",
        "\n",
        "  str_en = line.encode(\"ascii\", \"ignore\")\n",
        "  str_de = str_en.decode()\n",
        "  text_data.append(str_de)\n",
        "\n",
        "  get_emo = get_emoji(line)\n",
        "\n",
        "  emoji_data.append(get_emo)\n",
        "  # text_data.append(line)\n",
        "\n",
        "  for i in get_emo:\n",
        "    all_emoji.append(i)"
      ]
    },
    {
      "cell_type": "code",
      "execution_count": null,
      "metadata": {
        "colab": {
          "base_uri": "https://localhost:8080/",
          "height": 35
        },
        "id": "bRs5qCFu7GF8",
        "outputId": "25603114-6136-4ba5-f824-0f16aec15d79"
      },
      "outputs": [
        {
          "output_type": "execute_result",
          "data": {
            "text/plain": [
              "'Were gonna have a (meat)ball on #idol tonight  https://t.co/SmeDrbOH66'"
            ],
            "application/vnd.google.colaboratory.intrinsic+json": {
              "type": "string"
            }
          },
          "metadata": {},
          "execution_count": 29
        }
      ],
      "source": [
        "text_data[1]"
      ]
    },
    {
      "cell_type": "code",
      "execution_count": null,
      "metadata": {
        "id": "u8DhUan3xzPr"
      },
      "outputs": [],
      "source": [
        "all_emoji"
      ]
    },
    {
      "cell_type": "code",
      "execution_count": null,
      "metadata": {
        "colab": {
          "base_uri": "https://localhost:8080/"
        },
        "id": "TjUSZESU7INx",
        "outputId": "62744b8e-2a63-49c8-c430-3cbd17a9b71a"
      },
      "outputs": [
        {
          "data": {
            "text/plain": [
              "21281"
            ]
          },
          "execution_count": 48,
          "metadata": {},
          "output_type": "execute_result"
        }
      ],
      "source": [
        "len(emoji_data)"
      ]
    },
    {
      "cell_type": "code",
      "execution_count": null,
      "metadata": {
        "colab": {
          "base_uri": "https://localhost:8080/"
        },
        "id": "AtaxwqBw8NOx",
        "outputId": "a7bb5cea-b73b-4a5b-dfd9-3c2ed9b92a85"
      },
      "outputs": [
        {
          "data": {
            "text/plain": [
              "21281"
            ]
          },
          "execution_count": 12,
          "metadata": {},
          "output_type": "execute_result"
        }
      ],
      "source": [
        "len(text_data)"
      ]
    },
    {
      "cell_type": "markdown",
      "metadata": {
        "id": "cS5avFREg37N"
      },
      "source": [
        "## Remove Text with Length <3"
      ]
    },
    {
      "cell_type": "code",
      "execution_count": null,
      "metadata": {
        "id": "Gjwhe-Zrg8MN"
      },
      "outputs": [],
      "source": [
        "# Remove entries with length less than 3\n",
        "text_data_update = []\n",
        "emoji_data_update = []\n",
        "\n",
        "for i in range(len(text_data)):\n",
        "  if len(text_data[i]) >= 3:\n",
        "    text_data_update.append(text_data[i])\n",
        "    emoji_data_update.append(emoji_data[i])\n",
        "    "
      ]
    },
    {
      "cell_type": "code",
      "execution_count": null,
      "metadata": {
        "colab": {
          "base_uri": "https://localhost:8080/"
        },
        "id": "DFAJjtODig_S",
        "outputId": "216236f0-c6bf-4545-f52d-0bf33f743412"
      },
      "outputs": [
        {
          "output_type": "execute_result",
          "data": {
            "text/plain": [
              "21184"
            ]
          },
          "metadata": {},
          "execution_count": 108
        }
      ],
      "source": [
        "len(text_data_update)"
      ]
    },
    {
      "cell_type": "code",
      "execution_count": null,
      "metadata": {
        "colab": {
          "base_uri": "https://localhost:8080/",
          "height": 35
        },
        "id": "XodSd2RtKiHx",
        "outputId": "3195b8da-b1af-4090-a63a-d27791c46d72"
      },
      "outputs": [
        {
          "data": {
            "application/vnd.google.colaboratory.intrinsic+json": {
              "type": "string"
            },
            "text/plain": [
              "'We’re gonna have a (meat)ball on #idol tonight 🍝 https://t.co/SmeDrbOH66'"
            ]
          },
          "execution_count": 67,
          "metadata": {},
          "output_type": "execute_result"
        }
      ],
      "source": [
        "text_data_update[1]"
      ]
    },
    {
      "cell_type": "markdown",
      "metadata": {
        "id": "ehrT1GdvijUr"
      },
      "source": [
        "# Preprocess"
      ]
    },
    {
      "cell_type": "markdown",
      "metadata": {
        "id": "hLB0EOtPjv1d"
      },
      "source": [
        "## Remove Special Character etc."
      ]
    },
    {
      "cell_type": "code",
      "execution_count": null,
      "metadata": {
        "id": "DGqIbROuiotK"
      },
      "outputs": [],
      "source": [
        "def preproc(comment, steps=range(1, 6)):\n",
        "\n",
        "    modComm = comment\n",
        "\n",
        "    # remove special characters\n",
        "    if 1 in steps:\n",
        "        modComm = re.sub(r\"\\n\", \" \", modComm)\n",
        "        modComm = re.sub(r\"\\t\", \" \", modComm)\n",
        "        modComm = re.sub(r\"\\r\", \" \", modComm)\n",
        "        # modComm = re.sub(r'@\\S+', '', modComm)\n",
        "        # modComm = re.sub(r'#\\S+', '', modComm)\n",
        "        # modComm = re.sub(r'\\\\[^\\s]*', '', modComm)\n",
        "        # modComm = re.sub(r'\\\\U[0-9a-fA-F]{8}', '', modComm)\n",
        "        # modComm = re.sub(r'\\|\\|', '', modComm)\n",
        "        # modComm = re.sub(r'\\|', '', modComm)\n",
        "\n",
        "        new = \"\"\n",
        "        for i in modComm:\n",
        "          if not i.startswith('\\\\'):\n",
        "              new+=i\n",
        "\n",
        "    # if 2 in steps:  # unescape html\n",
        "    #     modComm = html.unescape(modComm)\n",
        "\n",
        "    # if 3 in steps:  # remove URLs\n",
        "    #     modComm = re.sub(r\"(http|www)\\S+\", \"\", modComm)\n",
        "        \n",
        "    if 2 in steps: #remove duplicate spaces.\n",
        "        modComm = re.sub(\" +\", \" \", modComm)\n",
        "\n",
        "    return modComm"
      ]
    },
    {
      "cell_type": "code",
      "execution_count": null,
      "metadata": {
        "id": "bwmoSo6Uizz_"
      },
      "outputs": [],
      "source": [
        "preproc_data = []\n",
        "for lines in text_data_update:\n",
        "  if 'RT' in lines:\n",
        "    lines = lines[3:]\n",
        "  process_body = preproc(lines, steps=range(1,3))\n",
        "  preproc_data.append(process_body)"
      ]
    },
    {
      "cell_type": "code",
      "execution_count": null,
      "metadata": {
        "colab": {
          "base_uri": "https://localhost:8080/"
        },
        "id": "PDT0rfXPi4gY",
        "outputId": "50d28653-d52d-4865-a3d0-ff7240ad5411"
      },
      "outputs": [
        {
          "output_type": "execute_result",
          "data": {
            "text/plain": [
              "21184"
            ]
          },
          "metadata": {},
          "execution_count": 111
        }
      ],
      "source": [
        "len(preproc_data)"
      ]
    },
    {
      "cell_type": "code",
      "execution_count": null,
      "metadata": {
        "id": "0dMhziFJjEY3"
      },
      "outputs": [],
      "source": [
        "preproc_data # see data that has been preprocessed"
      ]
    },
    {
      "cell_type": "markdown",
      "metadata": {
        "id": "VpGGj8cP2WED"
      },
      "source": [
        "## Final Check"
      ]
    },
    {
      "cell_type": "code",
      "execution_count": null,
      "metadata": {
        "id": "dVB9AbzN2aiM"
      },
      "outputs": [],
      "source": [
        "final_text = []\n",
        "final_emoji = []\n",
        "all_emoji = []\n",
        "\n",
        "for i in range(len(preproc_data)):\n",
        "  preproc_data[i] = preproc_data[i].strip() # strip white spaces at beginning and end\n",
        "  if re.search('[a-zA-Z]', preproc_data[i]) and preproc_data[i].count(' ') >= 2:\n",
        "    final_text.append(preproc_data[i])\n",
        "    final_emoji.append(emoji_data_update[i])\n",
        "    for i in emoji_data_update[i]:\n",
        "      all_emoji.append(i)\n"
      ]
    },
    {
      "cell_type": "code",
      "execution_count": null,
      "metadata": {
        "colab": {
          "base_uri": "https://localhost:8080/"
        },
        "id": "03yETrWz20-c",
        "outputId": "525c5ee0-1c2d-4af3-86f1-3c8c3b1ef74e"
      },
      "outputs": [
        {
          "output_type": "execute_result",
          "data": {
            "text/plain": [
              "0"
            ]
          },
          "metadata": {},
          "execution_count": 189
        }
      ],
      "source": [
        "len(all_emoji)"
      ]
    },
    {
      "cell_type": "code",
      "execution_count": null,
      "metadata": {
        "colab": {
          "base_uri": "https://localhost:8080/"
        },
        "id": "wbySbAJ07eUZ",
        "outputId": "5496e8ec-bbcc-4fe9-87a3-fad3bb60ea0e"
      },
      "outputs": [
        {
          "output_type": "execute_result",
          "data": {
            "text/plain": [
              "20662"
            ]
          },
          "metadata": {},
          "execution_count": 60
        }
      ],
      "source": [
        "len(final_emoji)"
      ]
    },
    {
      "cell_type": "code",
      "execution_count": null,
      "metadata": {
        "colab": {
          "base_uri": "https://localhost:8080/",
          "height": 71
        },
        "id": "tzXSI4Y122wo",
        "outputId": "a46795b6-104e-4c8a-cbd3-34fc6efefecf"
      },
      "outputs": [
        {
          "output_type": "execute_result",
          "data": {
            "text/plain": [
              "'To My Forever Valentine! I know you ain’t keen on this day, (Like a lot of ya’ll out there) BUT, I love it and that’s why you celebrate It, for me, which makes me adore you more! Just wait til you see what the day Has in store for you! I LOVE YOU MR.WEATHERSPOON! ♥️♥️🤎♥️♥️🤎🤎 https://t.co/PHNSHiBFF3'"
            ],
            "application/vnd.google.colaboratory.intrinsic+json": {
              "type": "string"
            }
          },
          "metadata": {},
          "execution_count": 114
        }
      ],
      "source": [
        "final_text[1332]"
      ]
    },
    {
      "cell_type": "markdown",
      "metadata": {
        "id": "LpkoefO75KQz"
      },
      "source": [
        "## Make One Sentence corresponds to One Emoji"
      ]
    },
    {
      "cell_type": "code",
      "execution_count": null,
      "metadata": {
        "id": "9pjCp2X17hxw"
      },
      "outputs": [],
      "source": [
        "final_data = []\n",
        "\n",
        "for i in range(len(final_text)):\n",
        "  if len(final_emoji[i]) > 1:\n",
        "    emo = []\n",
        "    for j in range(len(final_emoji[i])):\n",
        "      add = []\n",
        "      if final_emoji[i][j] not in emo:\n",
        "        add.append(final_text[i])\n",
        "        add.append(final_emoji[i][j])\n",
        "        final_data.append(add)\n",
        "        emo.append(final_emoji[i][j])\n",
        "  \n",
        "  else:\n",
        "    add = []\n",
        "    add.append(final_text[i])\n",
        "    add.append(final_emoji[i][0])\n",
        "    final_data.append(add)\n"
      ]
    },
    {
      "cell_type": "code",
      "execution_count": null,
      "metadata": {
        "id": "eOQD9UBJ8YuA"
      },
      "outputs": [],
      "source": [
        "final_data"
      ]
    },
    {
      "cell_type": "code",
      "execution_count": null,
      "metadata": {
        "colab": {
          "base_uri": "https://localhost:8080/"
        },
        "id": "_aaGRwwY-54g",
        "outputId": "53462b36-1759-4617-d56a-f9afb035a527"
      },
      "outputs": [
        {
          "output_type": "execute_result",
          "data": {
            "text/plain": [
              "30556"
            ]
          },
          "metadata": {},
          "execution_count": 116
        }
      ],
      "source": [
        "len(final_data)"
      ]
    },
    {
      "cell_type": "markdown",
      "metadata": {
        "id": "KzVE1HVjQ-y7"
      },
      "source": [
        "# Data Analysis"
      ]
    },
    {
      "cell_type": "markdown",
      "metadata": {
        "id": "1KtdrHaeTOod"
      },
      "source": [
        "## Most frequent emoji"
      ]
    },
    {
      "cell_type": "code",
      "execution_count": null,
      "metadata": {
        "id": "yaLncK3DRY-3"
      },
      "outputs": [],
      "source": [
        "def most_frequent(List):\n",
        "    counter = 0\n",
        "    num = List[0]\n",
        "     \n",
        "    for i in List:\n",
        "        curr_frequency = List.count(i)\n",
        "        if(curr_frequency> counter):\n",
        "            counter = curr_frequency\n",
        "            num = i\n",
        " \n",
        "    return num"
      ]
    },
    {
      "cell_type": "code",
      "execution_count": null,
      "metadata": {
        "colab": {
          "base_uri": "https://localhost:8080/"
        },
        "id": "FwjTxuHHKh5b",
        "outputId": "6326836c-3589-4acb-f365-de560375392e"
      },
      "outputs": [
        {
          "output_type": "execute_result",
          "data": {
            "text/plain": [
              "35358"
            ]
          },
          "metadata": {},
          "execution_count": 118
        }
      ],
      "source": [
        "len(all_emoji)"
      ]
    },
    {
      "cell_type": "code",
      "execution_count": null,
      "metadata": {
        "colab": {
          "base_uri": "https://localhost:8080/",
          "height": 35
        },
        "id": "pnYidUxQRbDB",
        "outputId": "0cdb20b0-297e-44a3-eb6e-b6b7a3cba52a"
      },
      "outputs": [
        {
          "output_type": "execute_result",
          "data": {
            "text/plain": [
              "'❤️'"
            ],
            "application/vnd.google.colaboratory.intrinsic+json": {
              "type": "string"
            }
          },
          "metadata": {},
          "execution_count": 203
        }
      ],
      "source": [
        "most_freq_emo = most_frequent(all_emoji)\n",
        "most_freq_emo"
      ]
    },
    {
      "cell_type": "code",
      "execution_count": null,
      "metadata": {
        "colab": {
          "base_uri": "https://localhost:8080/"
        },
        "id": "9iwQ55AmSFIc",
        "outputId": "d2b251eb-5a71-4ccd-c7f1-8a0078b784ac"
      },
      "outputs": [
        {
          "output_type": "execute_result",
          "data": {
            "text/plain": [
              "2275"
            ]
          },
          "metadata": {},
          "execution_count": 204
        }
      ],
      "source": [
        "all_emoji.count(most_freq_emo)"
      ]
    },
    {
      "cell_type": "code",
      "execution_count": null,
      "metadata": {
        "colab": {
          "base_uri": "https://localhost:8080/"
        },
        "id": "MO6mKQtGWhSo",
        "outputId": "4c0aa189-88b5-45d0-c6a8-005c6dead3fe"
      },
      "outputs": [
        {
          "output_type": "execute_result",
          "data": {
            "text/plain": [
              "35358"
            ]
          },
          "metadata": {},
          "execution_count": 140
        }
      ],
      "source": [
        "len(all_emoji)"
      ]
    },
    {
      "cell_type": "markdown",
      "metadata": {
        "id": "Q9yVDiJYUpgS"
      },
      "source": [
        "## Number of frequency of each emoji"
      ]
    },
    {
      "cell_type": "code",
      "execution_count": null,
      "metadata": {
        "id": "yxQGVt7LTSjl"
      },
      "outputs": [],
      "source": [
        "emoji_set = set(all_emoji)"
      ]
    },
    {
      "cell_type": "code",
      "execution_count": null,
      "metadata": {
        "id": "7NCqfGzJTdqJ"
      },
      "outputs": [],
      "source": [
        "num_occurence_emoji = []\n",
        "\n",
        "for i in emoji_set:\n",
        "\n",
        "  num_occurence_emoji.append(all_emoji.count(i))\n",
        "\n"
      ]
    },
    {
      "cell_type": "code",
      "source": [
        "sorted(num_occurence_emoji)[-5:]"
      ],
      "metadata": {
        "colab": {
          "base_uri": "https://localhost:8080/"
        },
        "id": "jR4sfgbCKPsA",
        "outputId": "a1942a4d-ae10-4671-86ec-61607847dda5"
      },
      "execution_count": null,
      "outputs": [
        {
          "output_type": "execute_result",
          "data": {
            "text/plain": [
              "[613, 638, 1370, 2042, 2275]"
            ]
          },
          "metadata": {},
          "execution_count": 207
        }
      ]
    },
    {
      "cell_type": "code",
      "execution_count": null,
      "metadata": {
        "colab": {
          "base_uri": "https://localhost:8080/"
        },
        "id": "jejHVeLdDNbO",
        "outputId": "9f8037d3-670f-46a8-8b74-3bd598d9984b"
      },
      "outputs": [
        {
          "output_type": "execute_result",
          "data": {
            "text/plain": [
              "1274"
            ]
          },
          "metadata": {},
          "execution_count": 208
        }
      ],
      "source": [
        "count_w = sorted(num_occurence_emoji)\n",
        "len(count_w)"
      ]
    },
    {
      "cell_type": "code",
      "execution_count": null,
      "metadata": {
        "colab": {
          "base_uri": "https://localhost:8080/"
        },
        "id": "3nD9D5r0LMMR",
        "outputId": "f973ae8d-64ac-4e1d-d8e9-1257df4b65cb"
      },
      "outputs": [
        {
          "output_type": "execute_result",
          "data": {
            "text/plain": [
              "158"
            ]
          },
          "metadata": {},
          "execution_count": 70
        }
      ],
      "source": [
        "count_w[-50]"
      ]
    },
    {
      "cell_type": "code",
      "execution_count": null,
      "metadata": {
        "id": "L0eBLmZCGsRX"
      },
      "outputs": [],
      "source": [
        "emoji_set = list(emoji_set)\n",
        "\n",
        "most_frequent_emoji50 = []\n",
        "\n",
        "for j in range(len(num_occurence_emoji)):\n",
        "    if num_occurence_emoji[j] >= 158:\n",
        "      most_frequent_emoji50.append(emoji_set[j])"
      ]
    },
    {
      "cell_type": "code",
      "execution_count": null,
      "metadata": {
        "id": "yBWMYPkFHOGn"
      },
      "outputs": [],
      "source": [
        "(most_frequent_emoji50)"
      ]
    },
    {
      "cell_type": "code",
      "execution_count": null,
      "metadata": {
        "id": "I0Wdu391Hskt"
      },
      "outputs": [],
      "source": [
        "new_final_data = []\n",
        "count = 0\n",
        "for j in final_data:\n",
        "  count+=1\n",
        "  if j[1] in most_frequent_emoji50:\n",
        "    \n",
        "    new_final_data.append(j)"
      ]
    },
    {
      "cell_type": "code",
      "execution_count": null,
      "metadata": {
        "colab": {
          "base_uri": "https://localhost:8080/"
        },
        "id": "7oD14EuHIBuT",
        "outputId": "62c0633a-bfeb-4b24-a46f-0c0a14e2caf5"
      },
      "outputs": [
        {
          "output_type": "execute_result",
          "data": {
            "text/plain": [
              "1275"
            ]
          },
          "metadata": {},
          "execution_count": 144
        }
      ],
      "source": [
        "len(num_occurence_emoji)"
      ]
    },
    {
      "cell_type": "code",
      "execution_count": null,
      "metadata": {
        "id": "EbD1tN1aTq3H"
      },
      "outputs": [],
      "source": [
        "(list(emoji_set))"
      ]
    },
    {
      "cell_type": "code",
      "execution_count": null,
      "metadata": {
        "colab": {
          "base_uri": "https://localhost:8080/",
          "height": 448
        },
        "id": "Cit1SGxyT1FQ",
        "outputId": "a4a08f07-271b-4df4-cb23-3e1c4cf5215e"
      },
      "outputs": [
        {
          "output_type": "execute_result",
          "data": {
            "text/plain": [
              "[None]"
            ]
          },
          "metadata": {},
          "execution_count": 219
        },
        {
          "output_type": "display_data",
          "data": {
            "text/plain": [
              "<Figure size 640x480 with 1 Axes>"
            ],
            "image/png": "[encoded data removed]"
          },
          "metadata": {}
        }
      ],
      "source": [
        "import matplotlib.pyplot as plt\n",
        "import numpy as np\n",
        "\n",
        "xpoints = np.linspace(start = 0, stop = 1275, num = 1274)\n",
        "\n",
        "\n",
        "\n",
        "markerline, stemline, baseline, = plt.stem(xpoints,num_occurence_emoji)\n",
        "plt.setp(stemline, linewidth = 1.25)\n",
        "plt.setp(markerline, markersize = 3)\n"
      ]
    },
    {
      "cell_type": "code",
      "execution_count": null,
      "metadata": {
        "colab": {
          "base_uri": "https://localhost:8080/",
          "height": 430
        },
        "id": "wF0_EnRLtx38",
        "outputId": "323fa40a-5ea8-4c93-d22b-041ba07ca521"
      },
      "outputs": [
        {
          "output_type": "display_data",
          "data": {
            "text/plain": [
              "<Figure size 640x480 with 1 Axes>"
            ],
            "image/png": "[encoded data removed]"
          },
          "metadata": {}
        }
      ],
      "source": [
        "import matplotlib.pyplot as plt\n",
        "import numpy as np\n",
        "\n",
        "xpoints = np.linspace(start = 0, stop = 51, num = 50)\n",
        "# print(len(xpoints))\n",
        "y_point = []\n",
        "\n",
        "for i in num_occurence_emoji:\n",
        "  if i >= 158:\n",
        "    y_point.append(i)\n",
        "\n",
        "plt.stem(xpoints, y_point)\n",
        "plt.show()"
      ]
    },
    {
      "cell_type": "code",
      "execution_count": null,
      "metadata": {
        "colab": {
          "base_uri": "https://localhost:8080/"
        },
        "id": "V7wmgJjNWK6W",
        "outputId": "07ddc1c4-e101-45c9-b2b8-0e87d77d1459"
      },
      "outputs": [
        {
          "data": {
            "text/plain": [
              "329"
            ]
          },
          "execution_count": 129,
          "metadata": {},
          "output_type": "execute_result"
        }
      ],
      "source": [
        "num_occurence_emoji.count(1)"
      ]
    },
    {
      "cell_type": "code",
      "execution_count": null,
      "metadata": {
        "id": "m7fKCB1UGyQf"
      },
      "outputs": [],
      "source": [
        "count_w[-30:]"
      ]
    },
    {
      "cell_type": "markdown",
      "metadata": {
        "id": "mJ-StnF4OFSO"
      },
      "source": [
        "## Calculate # of emojis"
      ]
    },
    {
      "cell_type": "code",
      "execution_count": null,
      "metadata": {
        "colab": {
          "base_uri": "https://localhost:8080/"
        },
        "id": "7qLBjkZ0OSaW",
        "outputId": "561e2926-9003-41c8-f470-505e8b10ef03"
      },
      "outputs": [
        {
          "data": {
            "text/plain": [
              "1270"
            ]
          },
          "execution_count": 58,
          "metadata": {},
          "output_type": "execute_result"
        }
      ],
      "source": [
        "number_emoji = len(set(emoji_number))\n",
        "number_emoji"
      ]
    },
    {
      "cell_type": "markdown",
      "metadata": {
        "id": "CnpD-iJtOMS4"
      },
      "source": [
        "## Find max length of a sentence"
      ]
    },
    {
      "cell_type": "code",
      "execution_count": null,
      "metadata": {
        "colab": {
          "base_uri": "https://localhost:8080/"
        },
        "id": "VpQpwgO9Ou4a",
        "outputId": "959fee12-bde9-4fb5-f333-38542dde89bf"
      },
      "outputs": [
        {
          "data": {
            "text/plain": [
              "81"
            ]
          },
          "execution_count": 59,
          "metadata": {},
          "output_type": "execute_result"
        }
      ],
      "source": [
        "max_length = -1\n",
        "\n",
        "for i in range(len(final_text)):\n",
        "  length = final_text[i].count(' ')\n",
        "  \n",
        "  if length > max_length:\n",
        "    max_length = length\n",
        "\n",
        "num_words = max_length+1\n",
        "\n",
        "num_words"
      ]
    },
    {
      "cell_type": "markdown",
      "metadata": {
        "id": "NeYYmD2T2QH-"
      },
      "source": [
        "# Save to CSV for Further Steps"
      ]
    },
    {
      "cell_type": "markdown",
      "metadata": {
        "id": "128fy_-xfOcc"
      },
      "source": [
        "## Convert Emoji to Number for Training"
      ]
    },
    {
      "cell_type": "code",
      "execution_count": null,
      "metadata": {
        "id": "VuPETtd4fUKW"
      },
      "outputs": [],
      "source": [
        "emoji_number=[]\n",
        "\n",
        "for i in new_final_data:\n",
        "    if i[1] not in emoji_number:\n",
        "        emoji_number.append(i[1])\n",
        "        \n",
        "csv_data=[]\n",
        "for i in new_final_data:\n",
        "    csv_data.append(emoji_number.index(i[1]))"
      ]
    },
    {
      "cell_type": "code",
      "execution_count": null,
      "metadata": {
        "id": "FaE2nZ2Oqy-1"
      },
      "outputs": [],
      "source": [
        "# Save a Emoji-Number reference CSV file for later if needed\n",
        "ref = []\n",
        "for ind, emo in enumerate(emoji_number):\n",
        "  add = []\n",
        "  add.append(ind)\n",
        "  add.append(emo)\n",
        "  ref.append(add)\n",
        "\n",
        "with open('emoji_to_number_ref_50', 'w') as f:\n",
        "    # create the csv writer\n",
        "    writer = csv.writer(f)\n",
        "    for i in ref:\n",
        "    # write a row to the csv file\n",
        "      writer.writerow(i)\n",
        "f.close()"
      ]
    },
    {
      "cell_type": "code",
      "execution_count": null,
      "metadata": {
        "colab": {
          "base_uri": "https://localhost:8080/"
        },
        "id": "vHUDvxUFghhD",
        "outputId": "788196f5-05ea-4f7d-f3f9-2925aba81da4"
      },
      "outputs": [
        {
          "output_type": "execute_result",
          "data": {
            "text/plain": [
              "16340"
            ]
          },
          "metadata": {},
          "execution_count": 168
        }
      ],
      "source": [
        "len(csv_data)"
      ]
    },
    {
      "cell_type": "code",
      "execution_count": null,
      "metadata": {
        "id": "Sgd8zFMCglMi"
      },
      "outputs": [],
      "source": [
        "final_csv_data = []\n",
        "\n",
        "for i in range(len(new_final_data)):\n",
        "  add = []\n",
        "  add.append(new_final_data[i][0])\n",
        "  add.append(csv_data[i])\n",
        "  final_csv_data.append(add)\n",
        " "
      ]
    },
    {
      "cell_type": "code",
      "source": [
        "new_final_data[897]"
      ],
      "metadata": {
        "colab": {
          "base_uri": "https://localhost:8080/"
        },
        "id": "gBnvFhB3RoNi",
        "outputId": "ed0414f2-8bea-47d5-92a5-9a3bd8959c69"
      },
      "execution_count": null,
      "outputs": [
        {
          "output_type": "execute_result",
          "data": {
            "text/plain": [
              "['@LeanneMix96: What an amazing night!!! @LittleMix #ConfettiTour https://t.co/BYGgd721kZ',\n",
              " '🎉']"
            ]
          },
          "metadata": {},
          "execution_count": 227
        }
      ]
    },
    {
      "cell_type": "code",
      "execution_count": null,
      "metadata": {
        "colab": {
          "base_uri": "https://localhost:8080/"
        },
        "id": "_fswyXW0nX_i",
        "outputId": "1094a511-f169-4bdd-b6e1-378f2b59a5c9"
      },
      "outputs": [
        {
          "output_type": "execute_result",
          "data": {
            "text/plain": [
              "['@LeanneMix96: What an amazing night!!! @LittleMix #ConfettiTour https://t.co/BYGgd721kZ',\n",
              " 11]"
            ]
          },
          "metadata": {},
          "execution_count": 228
        }
      ],
      "source": [
        "final_csv_data[897]"
      ]
    },
    {
      "cell_type": "markdown",
      "metadata": {
        "id": "qB0UThq5fUn8"
      },
      "source": [
        "## Write to CSV"
      ]
    },
    {
      "cell_type": "code",
      "execution_count": null,
      "metadata": {
        "id": "lOt6P3qn1p0i"
      },
      "outputs": [],
      "source": [
        "# With actual emoji\n",
        "with open('data_preproc_emoji_50', 'w') as f:\n",
        "    # create the csv writer\n",
        "    writer = csv.writer(f)\n",
        "    for i in new_final_data:\n",
        "    # write a row to the csv file\n",
        "      writer.writerow(i)\n",
        "f.close()\n"
      ]
    },
    {
      "cell_type": "code",
      "execution_count": null,
      "metadata": {
        "colab": {
          "base_uri": "https://localhost:8080/"
        },
        "id": "yQgsCoFOApRj",
        "outputId": "4e7d09b2-6e6a-4753-fb69-613b03a0fba5"
      },
      "outputs": [
        {
          "name": "stdout",
          "output_type": "stream",
          "text": [
            "['anyway watch #idol rn and let me know what YOU did for your 21st (that you can remember) ⬇️', '⬇️']\n"
          ]
        }
      ],
      "source": [
        "print(final_data[24])"
      ]
    },
    {
      "cell_type": "code",
      "execution_count": null,
      "metadata": {
        "id": "cnGKS71zg9pD"
      },
      "outputs": [],
      "source": [
        "# With emoji converted to number\n",
        "with open('data_preproc_csv_50', 'w') as f:\n",
        "    # create the csv writer\n",
        "    writer = csv.writer(f)\n",
        "    for i in final_csv_data:\n",
        "    # write a row to the csv file\n",
        "      writer.writerow(i)\n",
        "f.close()"
      ]
    }
  ],
  "metadata": {
    "colab": {
      "collapsed_sections": [
        "mJ-StnF4OFSO",
        "CnpD-iJtOMS4"
      ],
      "provenance": [],
      "toc_visible": true,
      "include_colab_link": true
    },
    "kernelspec": {
      "display_name": "Python 3",
      "name": "python3"
    },
    "language_info": {
      "name": "python"
    }
  },
  "nbformat": 4,
  "nbformat_minor": 0
}